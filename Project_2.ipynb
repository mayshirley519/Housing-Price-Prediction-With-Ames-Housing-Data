{
 "cells": [
  {
   "cell_type": "markdown",
   "id": "166efad2-7584-4a53-8141-67bde879bbcd",
   "metadata": {},
   "source": [
    "# Problem Statement # "
   ]
  },
  {
   "cell_type": "markdown",
   "id": "596ed708-ff8d-4f6d-88f3-4172daeacea6",
   "metadata": {},
   "source": [
    "Home appraisers predict real estate prices for lenders and buyers using machine learning algorithms such as linear regression models. And the success of these models will be evaluated using the cross-validation scores, in other words, R2 scores. The higher the R2 scores, the better the model fits the linear regression, making the predictions more likely to be true. The appraisal process is crucial to lenders, so you don't lend more money than the house is worth. The appraisal process is also important to home buyers, so you know if you overpaid for the property, and if you did, you can try to make up that loss during resale. \n",
    "For this project, we aim to build a linear regression model using specific features from the Ames IA dataset to predict housing prices. "
   ]
  },
  {
   "cell_type": "markdown",
   "id": "87aaa0dd-4914-45b1-b5b5-b518a1c42b1d",
   "metadata": {},
   "source": [
    "# Data Cleaning and EDA # \n"
   ]
  },
  {
   "cell_type": "code",
   "execution_count": 1,
   "id": "9d7b03af-4c53-433a-a103-6a9491ae5a2c",
   "metadata": {},
   "outputs": [],
   "source": [
    "# Import libraries\n",
    "import pandas as pd\n",
    "import numpy as np\n",
    "import seaborn as sns\n",
    "import math \n",
    "import matplotlib.pyplot as plt\n",
    "from sklearn import metrics\n",
    "from sklearn.model_selection import train_test_split, cross_val_score, cross_val_predict\n",
    "from sklearn.linear_model import LinearRegression\n",
    "from sklearn.preprocessing import StandardScaler, PolynomialFeatures\n",
    "from sklearn.impute import SimpleImputer\n",
    "from sklearn.linear_model import Ridge, RidgeCV, Lasso, LassoCV"
   ]
  },
  {
   "cell_type": "code",
   "execution_count": 2,
   "id": "3b71aa9c-b45a-411c-b08e-a3cad978acf7",
   "metadata": {},
   "outputs": [
    {
     "data": {
      "text/html": [
       "<div>\n",
       "<style scoped>\n",
       "    .dataframe tbody tr th:only-of-type {\n",
       "        vertical-align: middle;\n",
       "    }\n",
       "\n",
       "    .dataframe tbody tr th {\n",
       "        vertical-align: top;\n",
       "    }\n",
       "\n",
       "    .dataframe thead th {\n",
       "        text-align: right;\n",
       "    }\n",
       "</style>\n",
       "<table border=\"1\" class=\"dataframe\">\n",
       "  <thead>\n",
       "    <tr style=\"text-align: right;\">\n",
       "      <th></th>\n",
       "      <th>Id</th>\n",
       "      <th>PID</th>\n",
       "      <th>MS SubClass</th>\n",
       "      <th>MS Zoning</th>\n",
       "      <th>Lot Frontage</th>\n",
       "      <th>Lot Area</th>\n",
       "      <th>Street</th>\n",
       "      <th>Alley</th>\n",
       "      <th>Lot Shape</th>\n",
       "      <th>Land Contour</th>\n",
       "      <th>...</th>\n",
       "      <th>Screen Porch</th>\n",
       "      <th>Pool Area</th>\n",
       "      <th>Pool QC</th>\n",
       "      <th>Fence</th>\n",
       "      <th>Misc Feature</th>\n",
       "      <th>Misc Val</th>\n",
       "      <th>Mo Sold</th>\n",
       "      <th>Yr Sold</th>\n",
       "      <th>Sale Type</th>\n",
       "      <th>SalePrice</th>\n",
       "    </tr>\n",
       "  </thead>\n",
       "  <tbody>\n",
       "    <tr>\n",
       "      <th>0</th>\n",
       "      <td>109</td>\n",
       "      <td>533352170</td>\n",
       "      <td>60</td>\n",
       "      <td>RL</td>\n",
       "      <td>NaN</td>\n",
       "      <td>13517</td>\n",
       "      <td>Pave</td>\n",
       "      <td>NaN</td>\n",
       "      <td>IR1</td>\n",
       "      <td>Lvl</td>\n",
       "      <td>...</td>\n",
       "      <td>0</td>\n",
       "      <td>0</td>\n",
       "      <td>NaN</td>\n",
       "      <td>NaN</td>\n",
       "      <td>NaN</td>\n",
       "      <td>0</td>\n",
       "      <td>3</td>\n",
       "      <td>2010</td>\n",
       "      <td>WD</td>\n",
       "      <td>130500</td>\n",
       "    </tr>\n",
       "    <tr>\n",
       "      <th>1</th>\n",
       "      <td>544</td>\n",
       "      <td>531379050</td>\n",
       "      <td>60</td>\n",
       "      <td>RL</td>\n",
       "      <td>43.0</td>\n",
       "      <td>11492</td>\n",
       "      <td>Pave</td>\n",
       "      <td>NaN</td>\n",
       "      <td>IR1</td>\n",
       "      <td>Lvl</td>\n",
       "      <td>...</td>\n",
       "      <td>0</td>\n",
       "      <td>0</td>\n",
       "      <td>NaN</td>\n",
       "      <td>NaN</td>\n",
       "      <td>NaN</td>\n",
       "      <td>0</td>\n",
       "      <td>4</td>\n",
       "      <td>2009</td>\n",
       "      <td>WD</td>\n",
       "      <td>220000</td>\n",
       "    </tr>\n",
       "    <tr>\n",
       "      <th>2</th>\n",
       "      <td>153</td>\n",
       "      <td>535304180</td>\n",
       "      <td>20</td>\n",
       "      <td>RL</td>\n",
       "      <td>68.0</td>\n",
       "      <td>7922</td>\n",
       "      <td>Pave</td>\n",
       "      <td>NaN</td>\n",
       "      <td>Reg</td>\n",
       "      <td>Lvl</td>\n",
       "      <td>...</td>\n",
       "      <td>0</td>\n",
       "      <td>0</td>\n",
       "      <td>NaN</td>\n",
       "      <td>NaN</td>\n",
       "      <td>NaN</td>\n",
       "      <td>0</td>\n",
       "      <td>1</td>\n",
       "      <td>2010</td>\n",
       "      <td>WD</td>\n",
       "      <td>109000</td>\n",
       "    </tr>\n",
       "    <tr>\n",
       "      <th>3</th>\n",
       "      <td>318</td>\n",
       "      <td>916386060</td>\n",
       "      <td>60</td>\n",
       "      <td>RL</td>\n",
       "      <td>73.0</td>\n",
       "      <td>9802</td>\n",
       "      <td>Pave</td>\n",
       "      <td>NaN</td>\n",
       "      <td>Reg</td>\n",
       "      <td>Lvl</td>\n",
       "      <td>...</td>\n",
       "      <td>0</td>\n",
       "      <td>0</td>\n",
       "      <td>NaN</td>\n",
       "      <td>NaN</td>\n",
       "      <td>NaN</td>\n",
       "      <td>0</td>\n",
       "      <td>4</td>\n",
       "      <td>2010</td>\n",
       "      <td>WD</td>\n",
       "      <td>174000</td>\n",
       "    </tr>\n",
       "    <tr>\n",
       "      <th>4</th>\n",
       "      <td>255</td>\n",
       "      <td>906425045</td>\n",
       "      <td>50</td>\n",
       "      <td>RL</td>\n",
       "      <td>82.0</td>\n",
       "      <td>14235</td>\n",
       "      <td>Pave</td>\n",
       "      <td>NaN</td>\n",
       "      <td>IR1</td>\n",
       "      <td>Lvl</td>\n",
       "      <td>...</td>\n",
       "      <td>0</td>\n",
       "      <td>0</td>\n",
       "      <td>NaN</td>\n",
       "      <td>NaN</td>\n",
       "      <td>NaN</td>\n",
       "      <td>0</td>\n",
       "      <td>3</td>\n",
       "      <td>2010</td>\n",
       "      <td>WD</td>\n",
       "      <td>138500</td>\n",
       "    </tr>\n",
       "  </tbody>\n",
       "</table>\n",
       "<p>5 rows × 81 columns</p>\n",
       "</div>"
      ],
      "text/plain": [
       "    Id        PID  MS SubClass MS Zoning  Lot Frontage  Lot Area Street Alley  \\\n",
       "0  109  533352170           60        RL           NaN     13517   Pave   NaN   \n",
       "1  544  531379050           60        RL          43.0     11492   Pave   NaN   \n",
       "2  153  535304180           20        RL          68.0      7922   Pave   NaN   \n",
       "3  318  916386060           60        RL          73.0      9802   Pave   NaN   \n",
       "4  255  906425045           50        RL          82.0     14235   Pave   NaN   \n",
       "\n",
       "  Lot Shape Land Contour  ... Screen Porch Pool Area Pool QC Fence  \\\n",
       "0       IR1          Lvl  ...            0         0     NaN   NaN   \n",
       "1       IR1          Lvl  ...            0         0     NaN   NaN   \n",
       "2       Reg          Lvl  ...            0         0     NaN   NaN   \n",
       "3       Reg          Lvl  ...            0         0     NaN   NaN   \n",
       "4       IR1          Lvl  ...            0         0     NaN   NaN   \n",
       "\n",
       "  Misc Feature Misc Val Mo Sold Yr Sold  Sale Type  SalePrice  \n",
       "0          NaN        0       3    2010        WD      130500  \n",
       "1          NaN        0       4    2009        WD      220000  \n",
       "2          NaN        0       1    2010        WD      109000  \n",
       "3          NaN        0       4    2010        WD      174000  \n",
       "4          NaN        0       3    2010        WD      138500  \n",
       "\n",
       "[5 rows x 81 columns]"
      ]
     },
     "execution_count": 2,
     "metadata": {},
     "output_type": "execute_result"
    }
   ],
   "source": [
    "# Import train data set \n",
    "house = pd.read_csv('Original data/train.csv')\n",
    "house.head() "
   ]
  },
  {
   "cell_type": "code",
   "execution_count": 3,
   "id": "1a6bb83c-e946-4299-9452-25d5fc27302e",
   "metadata": {},
   "outputs": [],
   "source": [
    "# Edit the column names so easier to read\n",
    "house.columns = [column.replace(' ', '_').lower() for column in house.columns]"
   ]
  },
  {
   "cell_type": "code",
   "execution_count": 4,
   "id": "08fe6995-63f3-4e5c-bcbe-974eb3b05c01",
   "metadata": {
    "tags": []
   },
   "outputs": [
    {
     "name": "stdout",
     "output_type": "stream",
     "text": [
      "<class 'pandas.core.frame.DataFrame'>\n",
      "RangeIndex: 2051 entries, 0 to 2050\n",
      "Data columns (total 81 columns):\n",
      " #   Column           Non-Null Count  Dtype  \n",
      "---  ------           --------------  -----  \n",
      " 0   id               2051 non-null   int64  \n",
      " 1   pid              2051 non-null   int64  \n",
      " 2   ms_subclass      2051 non-null   int64  \n",
      " 3   ms_zoning        2051 non-null   object \n",
      " 4   lot_frontage     1721 non-null   float64\n",
      " 5   lot_area         2051 non-null   int64  \n",
      " 6   street           2051 non-null   object \n",
      " 7   alley            140 non-null    object \n",
      " 8   lot_shape        2051 non-null   object \n",
      " 9   land_contour     2051 non-null   object \n",
      " 10  utilities        2051 non-null   object \n",
      " 11  lot_config       2051 non-null   object \n",
      " 12  land_slope       2051 non-null   object \n",
      " 13  neighborhood     2051 non-null   object \n",
      " 14  condition_1      2051 non-null   object \n",
      " 15  condition_2      2051 non-null   object \n",
      " 16  bldg_type        2051 non-null   object \n",
      " 17  house_style      2051 non-null   object \n",
      " 18  overall_qual     2051 non-null   int64  \n",
      " 19  overall_cond     2051 non-null   int64  \n",
      " 20  year_built       2051 non-null   int64  \n",
      " 21  year_remod/add   2051 non-null   int64  \n",
      " 22  roof_style       2051 non-null   object \n",
      " 23  roof_matl        2051 non-null   object \n",
      " 24  exterior_1st     2051 non-null   object \n",
      " 25  exterior_2nd     2051 non-null   object \n",
      " 26  mas_vnr_type     2029 non-null   object \n",
      " 27  mas_vnr_area     2029 non-null   float64\n",
      " 28  exter_qual       2051 non-null   object \n",
      " 29  exter_cond       2051 non-null   object \n",
      " 30  foundation       2051 non-null   object \n",
      " 31  bsmt_qual        1996 non-null   object \n",
      " 32  bsmt_cond        1996 non-null   object \n",
      " 33  bsmt_exposure    1993 non-null   object \n",
      " 34  bsmtfin_type_1   1996 non-null   object \n",
      " 35  bsmtfin_sf_1     2050 non-null   float64\n",
      " 36  bsmtfin_type_2   1995 non-null   object \n",
      " 37  bsmtfin_sf_2     2050 non-null   float64\n",
      " 38  bsmt_unf_sf      2050 non-null   float64\n",
      " 39  total_bsmt_sf    2050 non-null   float64\n",
      " 40  heating          2051 non-null   object \n",
      " 41  heating_qc       2051 non-null   object \n",
      " 42  central_air      2051 non-null   object \n",
      " 43  electrical       2051 non-null   object \n",
      " 44  1st_flr_sf       2051 non-null   int64  \n",
      " 45  2nd_flr_sf       2051 non-null   int64  \n",
      " 46  low_qual_fin_sf  2051 non-null   int64  \n",
      " 47  gr_liv_area      2051 non-null   int64  \n",
      " 48  bsmt_full_bath   2049 non-null   float64\n",
      " 49  bsmt_half_bath   2049 non-null   float64\n",
      " 50  full_bath        2051 non-null   int64  \n",
      " 51  half_bath        2051 non-null   int64  \n",
      " 52  bedroom_abvgr    2051 non-null   int64  \n",
      " 53  kitchen_abvgr    2051 non-null   int64  \n",
      " 54  kitchen_qual     2051 non-null   object \n",
      " 55  totrms_abvgrd    2051 non-null   int64  \n",
      " 56  functional       2051 non-null   object \n",
      " 57  fireplaces       2051 non-null   int64  \n",
      " 58  fireplace_qu     1051 non-null   object \n",
      " 59  garage_type      1938 non-null   object \n",
      " 60  garage_yr_blt    1937 non-null   float64\n",
      " 61  garage_finish    1937 non-null   object \n",
      " 62  garage_cars      2050 non-null   float64\n",
      " 63  garage_area      2050 non-null   float64\n",
      " 64  garage_qual      1937 non-null   object \n",
      " 65  garage_cond      1937 non-null   object \n",
      " 66  paved_drive      2051 non-null   object \n",
      " 67  wood_deck_sf     2051 non-null   int64  \n",
      " 68  open_porch_sf    2051 non-null   int64  \n",
      " 69  enclosed_porch   2051 non-null   int64  \n",
      " 70  3ssn_porch       2051 non-null   int64  \n",
      " 71  screen_porch     2051 non-null   int64  \n",
      " 72  pool_area        2051 non-null   int64  \n",
      " 73  pool_qc          9 non-null      object \n",
      " 74  fence            400 non-null    object \n",
      " 75  misc_feature     65 non-null     object \n",
      " 76  misc_val         2051 non-null   int64  \n",
      " 77  mo_sold          2051 non-null   int64  \n",
      " 78  yr_sold          2051 non-null   int64  \n",
      " 79  sale_type        2051 non-null   object \n",
      " 80  saleprice        2051 non-null   int64  \n",
      "dtypes: float64(11), int64(28), object(42)\n",
      "memory usage: 1.3+ MB\n"
     ]
    }
   ],
   "source": [
    "# Check for missing values\n",
    "house.info()"
   ]
  },
  {
   "cell_type": "code",
   "execution_count": 5,
   "id": "0a3aa6a2-f10f-45f6-90ec-89a8130371af",
   "metadata": {},
   "outputs": [
    {
     "data": {
      "text/plain": [
       "410.20000000000005"
      ]
     },
     "execution_count": 5,
     "metadata": {},
     "output_type": "execute_result"
    }
   ],
   "source": [
    "# Drop columns with more than 80% missing values \n",
    "# source: https://medium.com/analytics-vidhya/how-to-handle-missing-values-cbd03fb79ef8\n",
    "# ' When column has more than 80% to 95% missing value, drop it.'\n",
    "twenty_percent = 2051 * 0.2 # If the column has less than twenty_percent non-null values, drop the whole column\n",
    "twenty_percent "
   ]
  },
  {
   "cell_type": "code",
   "execution_count": 6,
   "id": "038bc877-53e1-4fc6-badb-a278a5beee83",
   "metadata": {},
   "outputs": [],
   "source": [
    "# Drop the columns with less than 410 non-null values. \n",
    "house.drop(['alley', 'pool_qc', 'fence', 'misc_feature'], axis=1, inplace=True)"
   ]
  },
  {
   "cell_type": "code",
   "execution_count": 7,
   "id": "185cae7f-ddc8-4d58-866a-603db1a6bfea",
   "metadata": {},
   "outputs": [
    {
     "data": {
      "image/png": "[encoded data removed]",
      "text/plain": [
       "<Figure size 360x360 with 1 Axes>"
      ]
     },
     "metadata": {
      "needs_background": "light"
     },
     "output_type": "display_data"
    }
   ],
   "source": [
    "# Is sale price distributed normally?\n",
    "sns.displot(data=house['saleprice'])\n",
    "# The sale price is normally distributed, and skewed to the right\n",
    "plt.tight_layout()\n",
    "plt.savefig(\"Figures/sale_price_skewed.png\")"
   ]
  },
  {
   "cell_type": "code",
   "execution_count": 8,
   "id": "d91cc561-234d-4f36-bacc-87780f98f5b0",
   "metadata": {},
   "outputs": [],
   "source": [
    "# Removes outliers\n",
    "def remove_outlier(df, col):\n",
    "    q1 = df[col].quantile(0.25)\n",
    "    q3 = df[col].quantile(0.75)\n",
    "    iqr = q3-q1\n",
    "    fence_low  = q1-1.5*iqr\n",
    "    fence_high = q3+1.5*iqr\n",
    "    df_out = df.loc[(df[col] > fence_low) & (df[col] < fence_high)]\n",
    "    return df_out"
   ]
  },
  {
   "cell_type": "code",
   "execution_count": 9,
   "id": "71052875-c11e-4bb1-b8d3-332869e30fa4",
   "metadata": {},
   "outputs": [
    {
     "data": {
      "image/png": "[encoded data removed]",
      "text/plain": [
       "<Figure size 360x360 with 1 Axes>"
      ]
     },
     "metadata": {
      "needs_background": "light"
     },
     "output_type": "display_data"
    }
   ],
   "source": [
    "# Remove outliers in the 'saleprice', and plot the distribution\n",
    "house = remove_outlier(house, 'saleprice')\n",
    "sns.displot(house['saleprice']).set(title='Distribution of sale prices in Ames, IA 2006-2010')\n",
    "plt.axvline(x=house['saleprice'].mean(), color='red', label='mean',)\n",
    "plt.legend()\n",
    "# The new distribution is more normally distributed, and not as skewed as the previous plot. \n",
    "plt.tight_layout()\n",
    "plt.savefig(\"Figures/displot_saleprice.png\")"
   ]
  },
  {
   "cell_type": "code",
   "execution_count": 10,
   "id": "795522e5-586e-40e3-8af6-4643e8f32365",
   "metadata": {},
   "outputs": [
    {
     "data": {
      "text/html": [
       "<div>\n",
       "<style scoped>\n",
       "    .dataframe tbody tr th:only-of-type {\n",
       "        vertical-align: middle;\n",
       "    }\n",
       "\n",
       "    .dataframe tbody tr th {\n",
       "        vertical-align: top;\n",
       "    }\n",
       "\n",
       "    .dataframe thead th {\n",
       "        text-align: right;\n",
       "    }\n",
       "</style>\n",
       "<table border=\"1\" class=\"dataframe\">\n",
       "  <thead>\n",
       "    <tr style=\"text-align: right;\">\n",
       "      <th></th>\n",
       "      <th>id</th>\n",
       "      <th>pid</th>\n",
       "      <th>ms_subclass</th>\n",
       "      <th>lot_frontage</th>\n",
       "      <th>lot_area</th>\n",
       "      <th>overall_qual</th>\n",
       "      <th>overall_cond</th>\n",
       "      <th>year_built</th>\n",
       "      <th>year_remod/add</th>\n",
       "      <th>mas_vnr_area</th>\n",
       "      <th>...</th>\n",
       "      <th>wood_deck_sf</th>\n",
       "      <th>open_porch_sf</th>\n",
       "      <th>enclosed_porch</th>\n",
       "      <th>3ssn_porch</th>\n",
       "      <th>screen_porch</th>\n",
       "      <th>pool_area</th>\n",
       "      <th>misc_val</th>\n",
       "      <th>mo_sold</th>\n",
       "      <th>yr_sold</th>\n",
       "      <th>saleprice</th>\n",
       "    </tr>\n",
       "  </thead>\n",
       "  <tbody>\n",
       "    <tr>\n",
       "      <th>count</th>\n",
       "      <td>1957.000000</td>\n",
       "      <td>1.957000e+03</td>\n",
       "      <td>1957.000000</td>\n",
       "      <td>1629.000000</td>\n",
       "      <td>1957.000000</td>\n",
       "      <td>1957.000000</td>\n",
       "      <td>1957.000000</td>\n",
       "      <td>1957.000000</td>\n",
       "      <td>1957.000000</td>\n",
       "      <td>1937.000000</td>\n",
       "      <td>...</td>\n",
       "      <td>1957.000000</td>\n",
       "      <td>1957.000000</td>\n",
       "      <td>1957.000000</td>\n",
       "      <td>1957.000000</td>\n",
       "      <td>1957.000000</td>\n",
       "      <td>1957.000000</td>\n",
       "      <td>1957.000000</td>\n",
       "      <td>1957.000000</td>\n",
       "      <td>1957.000000</td>\n",
       "      <td>1957.000000</td>\n",
       "    </tr>\n",
       "    <tr>\n",
       "      <th>mean</th>\n",
       "      <td>1477.393459</td>\n",
       "      <td>7.199474e+08</td>\n",
       "      <td>57.652018</td>\n",
       "      <td>67.893186</td>\n",
       "      <td>9832.811957</td>\n",
       "      <td>5.983648</td>\n",
       "      <td>5.582524</td>\n",
       "      <td>1970.265713</td>\n",
       "      <td>1983.224323</td>\n",
       "      <td>83.997935</td>\n",
       "      <td>...</td>\n",
       "      <td>88.678590</td>\n",
       "      <td>45.407256</td>\n",
       "      <td>23.136944</td>\n",
       "      <td>2.482371</td>\n",
       "      <td>15.590189</td>\n",
       "      <td>2.513030</td>\n",
       "      <td>54.051610</td>\n",
       "      <td>6.203883</td>\n",
       "      <td>2007.783853</td>\n",
       "      <td>170140.600409</td>\n",
       "    </tr>\n",
       "    <tr>\n",
       "      <th>std</th>\n",
       "      <td>846.458057</td>\n",
       "      <td>1.886497e+08</td>\n",
       "      <td>43.286131</td>\n",
       "      <td>22.751075</td>\n",
       "      <td>6583.868565</td>\n",
       "      <td>1.319098</td>\n",
       "      <td>1.119159</td>\n",
       "      <td>29.976318</td>\n",
       "      <td>21.026185</td>\n",
       "      <td>151.539422</td>\n",
       "      <td>...</td>\n",
       "      <td>124.406088</td>\n",
       "      <td>65.979091</td>\n",
       "      <td>60.382376</td>\n",
       "      <td>24.673560</td>\n",
       "      <td>55.736128</td>\n",
       "      <td>38.676037</td>\n",
       "      <td>586.896066</td>\n",
       "      <td>2.745479</td>\n",
       "      <td>1.316012</td>\n",
       "      <td>59802.332903</td>\n",
       "    </tr>\n",
       "    <tr>\n",
       "      <th>min</th>\n",
       "      <td>1.000000</td>\n",
       "      <td>5.263011e+08</td>\n",
       "      <td>20.000000</td>\n",
       "      <td>21.000000</td>\n",
       "      <td>1300.000000</td>\n",
       "      <td>1.000000</td>\n",
       "      <td>1.000000</td>\n",
       "      <td>1872.000000</td>\n",
       "      <td>1950.000000</td>\n",
       "      <td>0.000000</td>\n",
       "      <td>...</td>\n",
       "      <td>0.000000</td>\n",
       "      <td>0.000000</td>\n",
       "      <td>0.000000</td>\n",
       "      <td>0.000000</td>\n",
       "      <td>0.000000</td>\n",
       "      <td>0.000000</td>\n",
       "      <td>0.000000</td>\n",
       "      <td>1.000000</td>\n",
       "      <td>2006.000000</td>\n",
       "      <td>12789.000000</td>\n",
       "    </tr>\n",
       "    <tr>\n",
       "      <th>25%</th>\n",
       "      <td>754.000000</td>\n",
       "      <td>5.313760e+08</td>\n",
       "      <td>20.000000</td>\n",
       "      <td>57.000000</td>\n",
       "      <td>7415.000000</td>\n",
       "      <td>5.000000</td>\n",
       "      <td>5.000000</td>\n",
       "      <td>1952.000000</td>\n",
       "      <td>1963.000000</td>\n",
       "      <td>0.000000</td>\n",
       "      <td>...</td>\n",
       "      <td>0.000000</td>\n",
       "      <td>0.000000</td>\n",
       "      <td>0.000000</td>\n",
       "      <td>0.000000</td>\n",
       "      <td>0.000000</td>\n",
       "      <td>0.000000</td>\n",
       "      <td>0.000000</td>\n",
       "      <td>4.000000</td>\n",
       "      <td>2007.000000</td>\n",
       "      <td>128500.000000</td>\n",
       "    </tr>\n",
       "    <tr>\n",
       "      <th>50%</th>\n",
       "      <td>1481.000000</td>\n",
       "      <td>9.021000e+08</td>\n",
       "      <td>50.000000</td>\n",
       "      <td>67.000000</td>\n",
       "      <td>9248.000000</td>\n",
       "      <td>6.000000</td>\n",
       "      <td>5.000000</td>\n",
       "      <td>1972.000000</td>\n",
       "      <td>1991.000000</td>\n",
       "      <td>0.000000</td>\n",
       "      <td>...</td>\n",
       "      <td>0.000000</td>\n",
       "      <td>24.000000</td>\n",
       "      <td>0.000000</td>\n",
       "      <td>0.000000</td>\n",
       "      <td>0.000000</td>\n",
       "      <td>0.000000</td>\n",
       "      <td>0.000000</td>\n",
       "      <td>6.000000</td>\n",
       "      <td>2008.000000</td>\n",
       "      <td>158500.000000</td>\n",
       "    </tr>\n",
       "    <tr>\n",
       "      <th>75%</th>\n",
       "      <td>2199.000000</td>\n",
       "      <td>9.071921e+08</td>\n",
       "      <td>70.000000</td>\n",
       "      <td>80.000000</td>\n",
       "      <td>11120.000000</td>\n",
       "      <td>7.000000</td>\n",
       "      <td>6.000000</td>\n",
       "      <td>1999.000000</td>\n",
       "      <td>2003.000000</td>\n",
       "      <td>135.000000</td>\n",
       "      <td>...</td>\n",
       "      <td>160.000000</td>\n",
       "      <td>66.000000</td>\n",
       "      <td>0.000000</td>\n",
       "      <td>0.000000</td>\n",
       "      <td>0.000000</td>\n",
       "      <td>0.000000</td>\n",
       "      <td>0.000000</td>\n",
       "      <td>8.000000</td>\n",
       "      <td>2009.000000</td>\n",
       "      <td>204500.000000</td>\n",
       "    </tr>\n",
       "    <tr>\n",
       "      <th>max</th>\n",
       "      <td>2930.000000</td>\n",
       "      <td>9.241520e+08</td>\n",
       "      <td>190.000000</td>\n",
       "      <td>313.000000</td>\n",
       "      <td>159000.000000</td>\n",
       "      <td>10.000000</td>\n",
       "      <td>9.000000</td>\n",
       "      <td>2010.000000</td>\n",
       "      <td>2010.000000</td>\n",
       "      <td>1600.000000</td>\n",
       "      <td>...</td>\n",
       "      <td>1424.000000</td>\n",
       "      <td>547.000000</td>\n",
       "      <td>432.000000</td>\n",
       "      <td>508.000000</td>\n",
       "      <td>490.000000</td>\n",
       "      <td>800.000000</td>\n",
       "      <td>17000.000000</td>\n",
       "      <td>12.000000</td>\n",
       "      <td>2010.000000</td>\n",
       "      <td>340000.000000</td>\n",
       "    </tr>\n",
       "  </tbody>\n",
       "</table>\n",
       "<p>8 rows × 39 columns</p>\n",
       "</div>"
      ],
      "text/plain": [
       "                id           pid  ms_subclass  lot_frontage       lot_area  \\\n",
       "count  1957.000000  1.957000e+03  1957.000000   1629.000000    1957.000000   \n",
       "mean   1477.393459  7.199474e+08    57.652018     67.893186    9832.811957   \n",
       "std     846.458057  1.886497e+08    43.286131     22.751075    6583.868565   \n",
       "min       1.000000  5.263011e+08    20.000000     21.000000    1300.000000   \n",
       "25%     754.000000  5.313760e+08    20.000000     57.000000    7415.000000   \n",
       "50%    1481.000000  9.021000e+08    50.000000     67.000000    9248.000000   \n",
       "75%    2199.000000  9.071921e+08    70.000000     80.000000   11120.000000   \n",
       "max    2930.000000  9.241520e+08   190.000000    313.000000  159000.000000   \n",
       "\n",
       "       overall_qual  overall_cond   year_built  year_remod/add  mas_vnr_area  \\\n",
       "count   1957.000000   1957.000000  1957.000000     1957.000000   1937.000000   \n",
       "mean       5.983648      5.582524  1970.265713     1983.224323     83.997935   \n",
       "std        1.319098      1.119159    29.976318       21.026185    151.539422   \n",
       "min        1.000000      1.000000  1872.000000     1950.000000      0.000000   \n",
       "25%        5.000000      5.000000  1952.000000     1963.000000      0.000000   \n",
       "50%        6.000000      5.000000  1972.000000     1991.000000      0.000000   \n",
       "75%        7.000000      6.000000  1999.000000     2003.000000    135.000000   \n",
       "max       10.000000      9.000000  2010.000000     2010.000000   1600.000000   \n",
       "\n",
       "       ...  wood_deck_sf  open_porch_sf  enclosed_porch   3ssn_porch  \\\n",
       "count  ...   1957.000000    1957.000000     1957.000000  1957.000000   \n",
       "mean   ...     88.678590      45.407256       23.136944     2.482371   \n",
       "std    ...    124.406088      65.979091       60.382376    24.673560   \n",
       "min    ...      0.000000       0.000000        0.000000     0.000000   \n",
       "25%    ...      0.000000       0.000000        0.000000     0.000000   \n",
       "50%    ...      0.000000      24.000000        0.000000     0.000000   \n",
       "75%    ...    160.000000      66.000000        0.000000     0.000000   \n",
       "max    ...   1424.000000     547.000000      432.000000   508.000000   \n",
       "\n",
       "       screen_porch    pool_area      misc_val      mo_sold      yr_sold  \\\n",
       "count   1957.000000  1957.000000   1957.000000  1957.000000  1957.000000   \n",
       "mean      15.590189     2.513030     54.051610     6.203883  2007.783853   \n",
       "std       55.736128    38.676037    586.896066     2.745479     1.316012   \n",
       "min        0.000000     0.000000      0.000000     1.000000  2006.000000   \n",
       "25%        0.000000     0.000000      0.000000     4.000000  2007.000000   \n",
       "50%        0.000000     0.000000      0.000000     6.000000  2008.000000   \n",
       "75%        0.000000     0.000000      0.000000     8.000000  2009.000000   \n",
       "max      490.000000   800.000000  17000.000000    12.000000  2010.000000   \n",
       "\n",
       "           saleprice  \n",
       "count    1957.000000  \n",
       "mean   170140.600409  \n",
       "std     59802.332903  \n",
       "min     12789.000000  \n",
       "25%    128500.000000  \n",
       "50%    158500.000000  \n",
       "75%    204500.000000  \n",
       "max    340000.000000  \n",
       "\n",
       "[8 rows x 39 columns]"
      ]
     },
     "execution_count": 10,
     "metadata": {},
     "output_type": "execute_result"
    }
   ],
   "source": [
    "# Look at the summary statistics of the whole dataset\n",
    "house.describe()"
   ]
  },
  {
   "cell_type": "markdown",
   "id": "b485844e-a148-4d44-988a-bc79d5a03033",
   "metadata": {},
   "source": [
    "#### - The null model, or baseline model is the mean sale price, which is \\\\$170140."
   ]
  },
  {
   "cell_type": "code",
   "execution_count": 11,
   "id": "9878c5cb-139f-4ce0-9c16-7e8df8bc6d52",
   "metadata": {},
   "outputs": [
    {
     "data": {
      "text/plain": [
       "saleprice         1.000000\n",
       "overall_qual      0.785928\n",
       "gr_liv_area       0.652235\n",
       "garage_cars       0.625719\n",
       "garage_area       0.609726\n",
       "year_built        0.600397\n",
       "year_remod/add    0.572956\n",
       "full_bath         0.555874\n",
       "total_bsmt_sf     0.550446\n",
       "garage_yr_blt     0.545975\n",
       "1st_flr_sf        0.535557\n",
       "Name: saleprice, dtype: float64"
      ]
     },
     "execution_count": 11,
     "metadata": {},
     "output_type": "execute_result"
    }
   ],
   "source": [
    "# Check the correlations of each column to saleprice\n",
    "corr = house.corr()['saleprice'].sort_values(ascending=False).head(11)\n",
    "corr"
   ]
  },
  {
   "cell_type": "code",
   "execution_count": 12,
   "id": "2fc017b5-69e7-4734-b9cd-74087382ee1a",
   "metadata": {},
   "outputs": [
    {
     "data": {
      "text/html": [
       "<div>\n",
       "<style scoped>\n",
       "    .dataframe tbody tr th:only-of-type {\n",
       "        vertical-align: middle;\n",
       "    }\n",
       "\n",
       "    .dataframe tbody tr th {\n",
       "        vertical-align: top;\n",
       "    }\n",
       "\n",
       "    .dataframe thead th {\n",
       "        text-align: right;\n",
       "    }\n",
       "</style>\n",
       "<table border=\"1\" class=\"dataframe\">\n",
       "  <thead>\n",
       "    <tr style=\"text-align: right;\">\n",
       "      <th></th>\n",
       "      <th>saleprice</th>\n",
       "    </tr>\n",
       "  </thead>\n",
       "  <tbody>\n",
       "    <tr>\n",
       "      <th>1st_flr_sf</th>\n",
       "      <td>0.535557</td>\n",
       "    </tr>\n",
       "    <tr>\n",
       "      <th>garage_yr_blt</th>\n",
       "      <td>0.545975</td>\n",
       "    </tr>\n",
       "    <tr>\n",
       "      <th>total_bsmt_sf</th>\n",
       "      <td>0.550446</td>\n",
       "    </tr>\n",
       "    <tr>\n",
       "      <th>full_bath</th>\n",
       "      <td>0.555874</td>\n",
       "    </tr>\n",
       "    <tr>\n",
       "      <th>year_remod/add</th>\n",
       "      <td>0.572956</td>\n",
       "    </tr>\n",
       "    <tr>\n",
       "      <th>year_built</th>\n",
       "      <td>0.600397</td>\n",
       "    </tr>\n",
       "    <tr>\n",
       "      <th>garage_area</th>\n",
       "      <td>0.609726</td>\n",
       "    </tr>\n",
       "    <tr>\n",
       "      <th>garage_cars</th>\n",
       "      <td>0.625719</td>\n",
       "    </tr>\n",
       "    <tr>\n",
       "      <th>gr_liv_area</th>\n",
       "      <td>0.652235</td>\n",
       "    </tr>\n",
       "    <tr>\n",
       "      <th>overall_qual</th>\n",
       "      <td>0.785928</td>\n",
       "    </tr>\n",
       "    <tr>\n",
       "      <th>saleprice</th>\n",
       "      <td>1.000000</td>\n",
       "    </tr>\n",
       "  </tbody>\n",
       "</table>\n",
       "</div>"
      ],
      "text/plain": [
       "                saleprice\n",
       "1st_flr_sf       0.535557\n",
       "garage_yr_blt    0.545975\n",
       "total_bsmt_sf    0.550446\n",
       "full_bath        0.555874\n",
       "year_remod/add   0.572956\n",
       "year_built       0.600397\n",
       "garage_area      0.609726\n",
       "garage_cars      0.625719\n",
       "gr_liv_area      0.652235\n",
       "overall_qual     0.785928\n",
       "saleprice        1.000000"
      ]
     },
     "execution_count": 12,
     "metadata": {},
     "output_type": "execute_result"
    }
   ],
   "source": [
    "corr = house.corr()[['saleprice']].sort_values(by=['saleprice']).tail(11)\n",
    "corr "
   ]
  },
  {
   "cell_type": "code",
   "execution_count": 13,
   "id": "53c26b65-deb9-444d-961b-1a9f47e84012",
   "metadata": {},
   "outputs": [
    {
     "data": {
      "image/png": "[encoded data removed]",
      "text/plain": [
       "<Figure size 432x288 with 2 Axes>"
      ]
     },
     "metadata": {
      "needs_background": "light"
     },
     "output_type": "display_data"
    }
   ],
   "source": [
    "# Heatmap for visualization\n",
    "sns.heatmap(corr, annot=True, vmax=1, vmin=-1)\n",
    "plt.tight_layout()\n",
    "plt.savefig(\"Figures/Heatmap.png\")"
   ]
  },
  {
   "cell_type": "code",
   "execution_count": 14,
   "id": "c679359d-5bfc-4abf-be5b-0845174c1b94",
   "metadata": {},
   "outputs": [
    {
     "data": {
      "text/plain": [
       "pid               -0.211452\n",
       "enclosed_porch    -0.144906\n",
       "kitchen_abvgr     -0.130651\n",
       "low_qual_fin_sf   -0.066034\n",
       "overall_cond      -0.057425\n",
       "ms_subclass       -0.053383\n",
       "id                -0.047751\n",
       "bsmt_half_bath    -0.020025\n",
       "yr_sold           -0.001998\n",
       "misc_val           0.007448\n",
       "bsmtfin_sf_2       0.014976\n",
       "mo_sold            0.029922\n",
       "pool_area          0.043670\n",
       "3ssn_porch         0.054647\n",
       "screen_porch       0.093845\n",
       "bedroom_abvgr      0.153227\n",
       "bsmt_unf_sf        0.169680\n",
       "lot_area           0.254245\n",
       "bsmt_full_bath     0.259143\n",
       "2nd_flr_sf         0.263247\n",
       "Name: saleprice, dtype: float64"
      ]
     },
     "execution_count": 14,
     "metadata": {},
     "output_type": "execute_result"
    }
   ],
   "source": [
    "house.corr()['saleprice'].sort_values(ascending=True).head(20)"
   ]
  },
  {
   "cell_type": "code",
   "execution_count": 15,
   "id": "103ef4eb-6e42-49be-8ca3-d6309a9a20ad",
   "metadata": {},
   "outputs": [],
   "source": [
    "# Pick and modify the top 6\n",
    "features = ['overall_qual','gr_liv_area','garage_cars', 'year_built', 'garage_area', 'full_bath']"
   ]
  },
  {
   "cell_type": "code",
   "execution_count": 16,
   "id": "1a473ac0-6832-449b-a92d-6fb4beaa7e37",
   "metadata": {},
   "outputs": [
    {
     "data": {
      "text/plain": [
       "5     563\n",
       "6     505\n",
       "7     429\n",
       "8     219\n",
       "4     159\n",
       "9      35\n",
       "3      29\n",
       "2       9\n",
       "10      5\n",
       "1       4\n",
       "Name: overall_qual, dtype: int64"
      ]
     },
     "execution_count": 16,
     "metadata": {},
     "output_type": "execute_result"
    }
   ],
   "source": [
    "# Overall Quality, 1:Very Poor - 10: Very Exellent\n",
    "house['overall_qual'].value_counts()"
   ]
  },
  {
   "cell_type": "code",
   "execution_count": 17,
   "id": "8a006a7c-7768-4473-8411-3d304a5f0dff",
   "metadata": {},
   "outputs": [
    {
     "data": {
      "image/png": "[encoded data removed]",
      "text/plain": [
       "<Figure size 432x288 with 1 Axes>"
      ]
     },
     "metadata": {
      "needs_background": "light"
     },
     "output_type": "display_data"
    }
   ],
   "source": [
    "# Plot Overall Quality and Sale Price\n",
    "sns.boxplot(x=house['overall_qual'], y=house['saleprice'],palette='pastel').set(title='House Overall Quality Compared to House Price')\n",
    "plt.xlabel('Overall House Quality Index')\n",
    "plt.tight_layout()\n",
    "plt.savefig(\"Figures/box_overallquality.png\")"
   ]
  },
  {
   "cell_type": "code",
   "execution_count": 18,
   "id": "7746388d-94a5-4eda-8db4-4f5c673192f3",
   "metadata": {},
   "outputs": [],
   "source": [
    "# Drop outlier values\n",
    "house = house.drop(house[(house['overall_qual']==9) & (house['saleprice']<200_000)] .index)\n",
    "house = house.drop(house[(house['overall_qual']==4) & (house['saleprice']>200_000)] .index)\n",
    "house = house.drop(house[(house['overall_qual']==5) & (house['saleprice']>200_000)] .index)\n",
    "house = house.drop(house[(house['overall_qual']==10)].index)\n",
    "house = house.drop(house[(house['overall_qual']==1)].index)"
   ]
  },
  {
   "cell_type": "code",
   "execution_count": 19,
   "id": "02924da6-5831-4fb2-a790-3f39ce496c85",
   "metadata": {},
   "outputs": [
    {
     "data": {
      "image/png": "[encoded data removed]",
      "text/plain": [
       "<Figure size 432x288 with 1 Axes>"
      ]
     },
     "metadata": {
      "needs_background": "light"
     },
     "output_type": "display_data"
    }
   ],
   "source": [
    "# Plot new Overall Quality and Sale Price\n",
    "sns.boxplot(x=house['overall_qual'], y=house['saleprice'],palette='pastel').set(title='House Overall Quality Compared to House Price')\n",
    "plt.xlabel('Overall House Quality Index')\n",
    "plt.tight_layout()\n",
    "plt.savefig(\"Figures/box_overallquality_outliers_removed.png\")"
   ]
  },
  {
   "cell_type": "code",
   "execution_count": 20,
   "id": "bba627f9-ef24-4aef-bc30-c0aabfec61cd",
   "metadata": {},
   "outputs": [
    {
     "data": {
      "text/plain": [
       "0.798793716665191"
      ]
     },
     "execution_count": 20,
     "metadata": {},
     "output_type": "execute_result"
    }
   ],
   "source": [
    "# New correlation 'overall quality' and 'sale price'\n",
    "house.corr()['overall_qual']['saleprice']"
   ]
  },
  {
   "cell_type": "code",
   "execution_count": 21,
   "id": "e49bcf46-8f50-4c34-be6c-01ef00147363",
   "metadata": {},
   "outputs": [
    {
     "data": {
      "text/plain": [
       "0.7831272266850597"
      ]
     },
     "execution_count": 21,
     "metadata": {},
     "output_type": "execute_result"
    }
   ],
   "source": [
    "# Merge gr_liv_area with basement_area to get the total area of the house\n",
    "house['area'] = (house['gr_liv_area'] + house['total_bsmt_sf'])\n",
    "house.corr()['area']['saleprice']\n",
    "# Correlation is higher than just ground level living area alone"
   ]
  },
  {
   "cell_type": "code",
   "execution_count": 22,
   "id": "b84e1706-4d2b-4fac-8276-6ce68f6c54aa",
   "metadata": {},
   "outputs": [
    {
     "data": {
      "image/png": "[encoded data removed]",
      "text/plain": [
       "<Figure size 432x288 with 1 Axes>"
      ]
     },
     "metadata": {
      "needs_background": "light"
     },
     "output_type": "display_data"
    }
   ],
   "source": [
    "sns.scatterplot(x=house['area'], y=house['saleprice']).set(title='House Area in Square Feet Compared to House Price')\n",
    "plt.tight_layout()\n",
    "plt.savefig(\"Figures/scatter_area.png\")"
   ]
  },
  {
   "cell_type": "code",
   "execution_count": 23,
   "id": "c9b90ebe-1081-4edd-b727-0a57799c349e",
   "metadata": {},
   "outputs": [
    {
     "data": {
      "image/png": "[encoded data removed]",
      "text/plain": [
       "<Figure size 432x288 with 1 Axes>"
      ]
     },
     "metadata": {
      "needs_background": "light"
     },
     "output_type": "display_data"
    }
   ],
   "source": [
    "# Garage cars and Garage area are not independent of each other. Use only one\n",
    "garage = sns.boxplot(x=house['garage_cars'], y=house['saleprice'], palette='pastel').set(title='Garage Car Capacity Compared to House Price')\n",
    "plt.xlabel('Number of Cars in Garage')\n",
    "plt.tight_layout()\n",
    "plt.savefig(\"Figures/boxplot_garage_cars.png\")"
   ]
  },
  {
   "cell_type": "code",
   "execution_count": 24,
   "id": "a07a8ed8-45e0-430c-9299-a098b049bbce",
   "metadata": {},
   "outputs": [
    {
     "data": {
      "text/plain": [
       "2.0    1113\n",
       "1.0     521\n",
       "3.0     176\n",
       "0.0     110\n",
       "4.0      12\n",
       "5.0       1\n",
       "Name: garage_cars, dtype: int64"
      ]
     },
     "execution_count": 24,
     "metadata": {},
     "output_type": "execute_result"
    }
   ],
   "source": [
    "house['garage_cars'].value_counts()"
   ]
  },
  {
   "cell_type": "code",
   "execution_count": 25,
   "id": "15dc582b-3a20-4a31-bf68-27b4d476962d",
   "metadata": {},
   "outputs": [],
   "source": [
    "# Drop outliers for 'garage_cars'\n",
    "house = house.drop(house[(house['garage_cars']==5)].index)\n",
    "house = house.drop(house[(house['garage_cars']==1) & (house['saleprice']>300_000)] .index)\n",
    "house = house.drop(house[(house['garage_cars']==2) & (house['saleprice']<50000)] .index)"
   ]
  },
  {
   "cell_type": "code",
   "execution_count": 26,
   "id": "8a748efb-5c3a-494e-a3b7-6d9d0151c9bc",
   "metadata": {},
   "outputs": [
    {
     "data": {
      "image/png": "[encoded data removed]",
      "text/plain": [
       "<Figure size 432x288 with 1 Axes>"
      ]
     },
     "metadata": {
      "needs_background": "light"
     },
     "output_type": "display_data"
    }
   ],
   "source": [
    "sns.boxplot(x=house['garage_cars'], y=house['saleprice'], palette='pastel').set(title='Garage Car Capacity Compared to House Price')\n",
    "plt.xlabel('Number of Cars in Garage')\n",
    "plt.tight_layout()\n",
    "plt.savefig(\"Figures/boxplot_garage_cars_outliers_removed.png\")"
   ]
  },
  {
   "cell_type": "code",
   "execution_count": 27,
   "id": "6272e9a6-34cf-49ed-ba1a-19639f5c4005",
   "metadata": {
    "tags": []
   },
   "outputs": [
    {
     "data": {
      "text/plain": [
       "0        34\n",
       "1        13\n",
       "2        57\n",
       "3         4\n",
       "4       110\n",
       "       ... \n",
       "2046      1\n",
       "2047     69\n",
       "2048     81\n",
       "2049     53\n",
       "2050     11\n",
       "Name: age, Length: 1931, dtype: int64"
      ]
     },
     "execution_count": 27,
     "metadata": {},
     "output_type": "execute_result"
    }
   ],
   "source": [
    "# Year built can be modified to age of the house\n",
    "house['age'] = house['yr_sold'] - house['year_built']\n",
    "house['age']"
   ]
  },
  {
   "cell_type": "code",
   "execution_count": 28,
   "id": "af1be490-c8a2-4a7a-8e85-a7974e2a6365",
   "metadata": {},
   "outputs": [
    {
     "name": "stdout",
     "output_type": "stream",
     "text": [
      "Age Correlation: -0.6094930112409103\n",
      "Year built Correlation: 0.6100113328362282\n",
      "Year sold Correlation: -0.0013259182393151893\n"
     ]
    }
   ],
   "source": [
    "# Does house['age'] display a higher correlation?\n",
    "print(f\"Age Correlation: {house.corr()['age']['saleprice']}\")\n",
    "print(f\"Year built Correlation: {house.corr()['year_built']['saleprice']}\")\n",
    "print(f\"Year sold Correlation: {house.corr()['yr_sold']['saleprice']}\")"
   ]
  },
  {
   "cell_type": "code",
   "execution_count": 29,
   "id": "4388479a-d00a-48bf-b17a-c1168f7f6eb5",
   "metadata": {},
   "outputs": [
    {
     "data": {
      "image/png": "[encoded data removed]",
      "text/plain": [
       "<Figure size 432x288 with 1 Axes>"
      ]
     },
     "metadata": {
      "needs_background": "light"
     },
     "output_type": "display_data"
    }
   ],
   "source": [
    "# Year built is slightly more correlated. \n",
    "sns.scatterplot(x=house['year_built'],y=house['saleprice']).set(title='House Year Built Compared to House Price')\n",
    "plt.tight_layout()\n",
    "plt.savefig(\"Figures/scatter_yrbuilt.png\")"
   ]
  },
  {
   "cell_type": "code",
   "execution_count": 30,
   "id": "aab6151e-b14e-4ab6-be9c-9a4b0e4cf5ec",
   "metadata": {
    "tags": []
   },
   "outputs": [
    {
     "data": {
      "text/plain": [
       "[Text(0.5, 1.0, 'House Age Compared to House Price')]"
      ]
     },
     "execution_count": 30,
     "metadata": {},
     "output_type": "execute_result"
    },
    {
     "data": {
      "image/png": "[encoded data removed]",
      "text/plain": [
       "<Figure size 432x288 with 1 Axes>"
      ]
     },
     "metadata": {
      "needs_background": "light"
     },
     "output_type": "display_data"
    }
   ],
   "source": [
    "sns.scatterplot(x=house['age'], y=house['saleprice']).set(title='House Age Compared to House Price')"
   ]
  },
  {
   "cell_type": "code",
   "execution_count": 31,
   "id": "28a9052a-ffe4-48bc-b7ba-06429dfb6f5f",
   "metadata": {},
   "outputs": [],
   "source": [
    "house['bathrooms'] = (house['bsmt_full_bath'] + house['full_bath'] + (0.5*house['bsmt_half_bath'] + (0.5*house['half_bath'])))"
   ]
  },
  {
   "cell_type": "code",
   "execution_count": 32,
   "id": "0c6cd99f-1303-4908-aad1-ca25d7d523a8",
   "metadata": {},
   "outputs": [
    {
     "name": "stdout",
     "output_type": "stream",
     "text": [
      "Bathrooms Correlation: 0.6341609710707179\n",
      "Fullbath Correlation: 0.5563420423759975\n"
     ]
    }
   ],
   "source": [
    "# Which feature display a higher correlation to sale price\n",
    "print(f\"Bathrooms Correlation: {house.corr()['bathrooms']['saleprice']}\")\n",
    "print(f\"Fullbath Correlation: {house.corr()['full_bath']['saleprice']}\")"
   ]
  },
  {
   "cell_type": "code",
   "execution_count": 33,
   "id": "2affd377-2450-416b-a262-3c1ce9374e1c",
   "metadata": {},
   "outputs": [
    {
     "data": {
      "image/png": "[encoded data removed]",
      "text/plain": [
       "<Figure size 432x288 with 1 Axes>"
      ]
     },
     "metadata": {
      "needs_background": "light"
     },
     "output_type": "display_data"
    }
   ],
   "source": [
    "# New column 'bathrooms' has higher correlation to sale price. \n",
    "sns.boxplot(x=house['bathrooms'], y=house['saleprice'], palette='pastel').set(title='Number of Bathrooms Compared to House Price')\n",
    "plt.tight_layout()\n",
    "plt.savefig(\"Figures/boxplot_bathrooms.png\")"
   ]
  },
  {
   "cell_type": "code",
   "execution_count": 34,
   "id": "1954adc2-2776-47ce-b331-b708e30eb2bc",
   "metadata": {},
   "outputs": [
    {
     "data": {
      "text/plain": [
       "2.0    628\n",
       "2.5    372\n",
       "1.0    311\n",
       "3.0    248\n",
       "1.5    191\n",
       "3.5    153\n",
       "4.0     17\n",
       "4.5      5\n",
       "6.0      2\n",
       "7.0      2\n",
       "5.0      1\n",
       "Name: bathrooms, dtype: int64"
      ]
     },
     "execution_count": 34,
     "metadata": {},
     "output_type": "execute_result"
    }
   ],
   "source": [
    "house['bathrooms'].value_counts() # Determine what values can be dropped as outliers"
   ]
  },
  {
   "cell_type": "code",
   "execution_count": 35,
   "id": "9f07efa4-8c50-4d77-a938-8e8cb3f1cf3c",
   "metadata": {},
   "outputs": [],
   "source": [
    "# Drop outliers for 'bathrooms'\n",
    "house = house.drop(house[(house['bathrooms']>=5)].index)\n",
    "house = house.drop(house[(house['bathrooms']==1) & (house['saleprice']>200000)].index)"
   ]
  },
  {
   "cell_type": "code",
   "execution_count": 36,
   "id": "def3a026-8d09-415a-b433-42e56c9773c0",
   "metadata": {},
   "outputs": [
    {
     "data": {
      "image/png": "[encoded data removed]",
      "text/plain": [
       "<Figure size 432x288 with 1 Axes>"
      ]
     },
     "metadata": {
      "needs_background": "light"
     },
     "output_type": "display_data"
    }
   ],
   "source": [
    "sns.boxplot(x=house['bathrooms'], y=house['saleprice'], palette='pastel').set(title='Number of Bathrooms Compared to House Price')\n",
    "plt.tight_layout()\n",
    "plt.savefig(\"Figures/boxplot_bathrooms_outliers_removed.png\")"
   ]
  },
  {
   "cell_type": "code",
   "execution_count": 37,
   "id": "ae73f075-ed4b-4dda-b56b-25bfafb94a41",
   "metadata": {},
   "outputs": [],
   "source": [
    "# Dummify Categorical columns to see the correlations\n",
    "dum_house = pd.get_dummies(data=house, drop_first=True)"
   ]
  },
  {
   "cell_type": "code",
   "execution_count": 38,
   "id": "07926a47-3fa5-4aae-a4cc-2544181337e0",
   "metadata": {},
   "outputs": [
    {
     "data": {
      "text/plain": [
       "exter_qual_TA       -0.620252\n",
       "age                 -0.610995\n",
       "kitchen_qual_TA     -0.558737\n",
       "bsmt_qual_TA        -0.482271\n",
       "garage_finish_Unf   -0.448561\n",
       "                       ...   \n",
       "bathrooms            0.650628\n",
       "gr_liv_area          0.680667\n",
       "area                 0.783887\n",
       "overall_qual         0.799004\n",
       "saleprice            1.000000\n",
       "Name: saleprice, Length: 239, dtype: float64"
      ]
     },
     "execution_count": 38,
     "metadata": {},
     "output_type": "execute_result"
    }
   ],
   "source": [
    "dum_house.corr()['saleprice'].sort_values()"
   ]
  },
  {
   "cell_type": "code",
   "execution_count": 39,
   "id": "ebb35bf0-fe6b-45eb-912f-30e3a4566d84",
   "metadata": {},
   "outputs": [
    {
     "data": {
      "text/plain": [
       "TA    1224\n",
       "Gd     648\n",
       "Ex      29\n",
       "Fa      23\n",
       "Name: exter_qual, dtype: int64"
      ]
     },
     "execution_count": 39,
     "metadata": {},
     "output_type": "execute_result"
    }
   ],
   "source": [
    "#External Quality and Kitchen Quality has high correlation, change those values into numerical\n",
    "house['exter_qual'].value_counts()"
   ]
  },
  {
   "cell_type": "code",
   "execution_count": 40,
   "id": "6f6afa84-2144-4c27-af11-04fc3556961c",
   "metadata": {},
   "outputs": [],
   "source": [
    "# Transform the quality description from string to number\n",
    "house['exter_qual_int'] = house['exter_qual'].map({'Po': 1, 'Fa': 2, 'TA':3, 'Gd':4, 'Ex':5})"
   ]
  },
  {
   "cell_type": "code",
   "execution_count": 41,
   "id": "024d453d-914f-4b1f-9bb5-bf63a570c8f2",
   "metadata": {},
   "outputs": [
    {
     "data": {
      "text/plain": [
       "0.6737086961677389"
      ]
     },
     "execution_count": 41,
     "metadata": {},
     "output_type": "execute_result"
    }
   ],
   "source": [
    "# Correlation between saleprice and external quality\n",
    "house.corr()['exter_qual_int']['saleprice']"
   ]
  },
  {
   "cell_type": "code",
   "execution_count": 42,
   "id": "5e7526ca-63be-4566-b5c1-2fbb7138d741",
   "metadata": {},
   "outputs": [
    {
     "data": {
      "image/png": "[encoded data removed]",
      "text/plain": [
       "<Figure size 432x288 with 1 Axes>"
      ]
     },
     "metadata": {
      "needs_background": "light"
     },
     "output_type": "display_data"
    }
   ],
   "source": [
    "# plot external quality vs sale price\n",
    "sns.boxplot(x=house['exter_qual_int'], y=house['saleprice'], palette='pastel').set(title='External Quality Compared to House Sale Price')\n",
    "plt.xlabel('External Quality Index')\n",
    "plt.tight_layout()\n",
    "plt.savefig(\"Figures/boxplot_external.png\")"
   ]
  },
  {
   "cell_type": "code",
   "execution_count": 43,
   "id": "5be2b3cd-ca93-426c-a7c4-d2ca6fc41f11",
   "metadata": {},
   "outputs": [],
   "source": [
    "# Remove Outliers\n",
    "house = house.drop(house[(house['exter_qual_int']==2) & (house['saleprice']>190_000)].index)\n",
    "house = house.drop(house[(house['exter_qual_int']==4) & (house['saleprice']<60000)].index)\n",
    "house = house.drop(house[(house['exter_qual_int']==5) & (house['saleprice']<200_000)].index)"
   ]
  },
  {
   "cell_type": "code",
   "execution_count": 44,
   "id": "8ac982ca-ddf9-4049-b834-93d3ccce7f5b",
   "metadata": {},
   "outputs": [
    {
     "data": {
      "image/png": "[encoded data removed]",
      "text/plain": [
       "<Figure size 432x288 with 1 Axes>"
      ]
     },
     "metadata": {
      "needs_background": "light"
     },
     "output_type": "display_data"
    }
   ],
   "source": [
    "# New external quality vs sale price plot\n",
    "sns.boxplot(x=house['exter_qual_int'], y=house['saleprice'], palette='pastel').set(title='External Quality Compared to House Sale Price')\n",
    "plt.xlabel('External Quality Index')\n",
    "plt.tight_layout()\n",
    "plt.savefig(\"Figures/boxplot_external_outliers_removed.png\")"
   ]
  },
  {
   "cell_type": "code",
   "execution_count": 45,
   "id": "e7c6dc75-3996-4a18-a917-7b9f5394b4fd",
   "metadata": {},
   "outputs": [
    {
     "name": "stdout",
     "output_type": "stream",
     "text": [
      "TA    1032\n",
      "Gd     768\n",
      "Ex      77\n",
      "Fa      43\n",
      "Name: kitchen_qual, dtype: int64\n"
     ]
    }
   ],
   "source": [
    "# Transform the Kitchen quality description from string to number\n",
    "print(house['kitchen_qual'].value_counts())"
   ]
  },
  {
   "cell_type": "code",
   "execution_count": 46,
   "id": "460e150f-1dc5-4f04-8c20-37cc4642f096",
   "metadata": {},
   "outputs": [
    {
     "data": {
      "text/plain": [
       "0.6495219707837611"
      ]
     },
     "execution_count": 46,
     "metadata": {},
     "output_type": "execute_result"
    }
   ],
   "source": [
    "house['kitchen_qual_int'] = house['kitchen_qual'].map({'Po': 1, 'Fa': 2, 'TA':3, 'Gd':4, 'Ex':5})\n",
    "house.corr()['kitchen_qual_int']['saleprice']"
   ]
  },
  {
   "cell_type": "code",
   "execution_count": 47,
   "id": "f9de7e70-6449-4c99-9785-c2df261cbc39",
   "metadata": {},
   "outputs": [
    {
     "data": {
      "image/png": "[encoded data removed]",
      "text/plain": [
       "<Figure size 432x288 with 1 Axes>"
      ]
     },
     "metadata": {
      "needs_background": "light"
     },
     "output_type": "display_data"
    }
   ],
   "source": [
    "sns.boxplot(x=house['kitchen_qual_int'], y=house['saleprice'], palette='pastel').set(title='Kitchen Quality Compared to House Sale Price')\n",
    "plt.xlabel('Kitchen Quality Index')\n",
    "plt.tight_layout()\n",
    "plt.savefig(\"Figures/boxplot_kitchen.png\")"
   ]
  },
  {
   "cell_type": "code",
   "execution_count": 48,
   "id": "ca4ab1a9-3c41-4954-9d41-101febc36ab2",
   "metadata": {},
   "outputs": [],
   "source": [
    "# Remove Outliers\n",
    "house = house.drop(house[(house['kitchen_qual_int']==2) & (house['saleprice']>200_000)].index)"
   ]
  },
  {
   "cell_type": "code",
   "execution_count": 49,
   "id": "e727564c-2cfa-4989-ab7d-4c941d9bd76e",
   "metadata": {},
   "outputs": [
    {
     "data": {
      "image/png": "[encoded data removed]",
      "text/plain": [
       "<Figure size 432x288 with 1 Axes>"
      ]
     },
     "metadata": {
      "needs_background": "light"
     },
     "output_type": "display_data"
    }
   ],
   "source": [
    "# Save the new plot\n",
    "sns.boxplot(x=house['kitchen_qual_int'], y=house['saleprice'], palette='pastel').set(title='Kitchen Quality Compared to House Sale Price')\n",
    "plt.xlabel('Kitchen Quality Index')\n",
    "plt.tight_layout()\n",
    "plt.savefig(\"Figures/boxplot_kitchen_outliers_removed.png\")"
   ]
  },
  {
   "cell_type": "markdown",
   "id": "14a22fed-ada2-430f-ab92-c86ecffd99b5",
   "metadata": {},
   "source": [
    "# Modeling #"
   ]
  },
  {
   "cell_type": "code",
   "execution_count": 50,
   "id": "3229e22c-dfc9-4294-a65d-ae0f03217e9e",
   "metadata": {},
   "outputs": [],
   "source": [
    "# Feature selection using some modified columns\n",
    "features = ['overall_qual','area','garage_cars', 'year_built','bathrooms', 'kitchen_qual_int', 'exter_qual_int']\n",
    "X = house[features]\n",
    "y = house['saleprice']"
   ]
  },
  {
   "cell_type": "code",
   "execution_count": 51,
   "id": "7075eef4-bbf6-433a-b45c-61c7eea2c66c",
   "metadata": {},
   "outputs": [
    {
     "data": {
      "text/html": [
       "<div>\n",
       "<style scoped>\n",
       "    .dataframe tbody tr th:only-of-type {\n",
       "        vertical-align: middle;\n",
       "    }\n",
       "\n",
       "    .dataframe tbody tr th {\n",
       "        vertical-align: top;\n",
       "    }\n",
       "\n",
       "    .dataframe thead th {\n",
       "        text-align: right;\n",
       "    }\n",
       "</style>\n",
       "<table border=\"1\" class=\"dataframe\">\n",
       "  <thead>\n",
       "    <tr style=\"text-align: right;\">\n",
       "      <th></th>\n",
       "      <th>overall_qual</th>\n",
       "      <th>area</th>\n",
       "      <th>garage_cars</th>\n",
       "      <th>year_built</th>\n",
       "      <th>bathrooms</th>\n",
       "      <th>kitchen_qual_int</th>\n",
       "      <th>exter_qual_int</th>\n",
       "    </tr>\n",
       "  </thead>\n",
       "  <tbody>\n",
       "    <tr>\n",
       "      <th>count</th>\n",
       "      <td>1919.000000</td>\n",
       "      <td>1918.000000</td>\n",
       "      <td>1918.000000</td>\n",
       "      <td>1919.000000</td>\n",
       "      <td>1918.000000</td>\n",
       "      <td>1919.000000</td>\n",
       "      <td>1919.000000</td>\n",
       "    </tr>\n",
       "    <tr>\n",
       "      <th>mean</th>\n",
       "      <td>5.992183</td>\n",
       "      <td>2463.422315</td>\n",
       "      <td>1.721585</td>\n",
       "      <td>1970.457009</td>\n",
       "      <td>2.159541</td>\n",
       "      <td>3.458572</td>\n",
       "      <td>3.353830</td>\n",
       "    </tr>\n",
       "    <tr>\n",
       "      <th>std</th>\n",
       "      <td>1.283342</td>\n",
       "      <td>666.716681</td>\n",
       "      <td>0.724893</td>\n",
       "      <td>29.911951</td>\n",
       "      <td>0.754462</td>\n",
       "      <td>0.610328</td>\n",
       "      <td>0.529007</td>\n",
       "    </tr>\n",
       "    <tr>\n",
       "      <th>min</th>\n",
       "      <td>2.000000</td>\n",
       "      <td>612.000000</td>\n",
       "      <td>0.000000</td>\n",
       "      <td>1872.000000</td>\n",
       "      <td>1.000000</td>\n",
       "      <td>2.000000</td>\n",
       "      <td>2.000000</td>\n",
       "    </tr>\n",
       "    <tr>\n",
       "      <th>25%</th>\n",
       "      <td>5.000000</td>\n",
       "      <td>1985.250000</td>\n",
       "      <td>1.000000</td>\n",
       "      <td>1953.000000</td>\n",
       "      <td>1.500000</td>\n",
       "      <td>3.000000</td>\n",
       "      <td>3.000000</td>\n",
       "    </tr>\n",
       "    <tr>\n",
       "      <th>50%</th>\n",
       "      <td>6.000000</td>\n",
       "      <td>2415.000000</td>\n",
       "      <td>2.000000</td>\n",
       "      <td>1972.000000</td>\n",
       "      <td>2.000000</td>\n",
       "      <td>3.000000</td>\n",
       "      <td>3.000000</td>\n",
       "    </tr>\n",
       "    <tr>\n",
       "      <th>75%</th>\n",
       "      <td>7.000000</td>\n",
       "      <td>2899.500000</td>\n",
       "      <td>2.000000</td>\n",
       "      <td>1999.000000</td>\n",
       "      <td>2.500000</td>\n",
       "      <td>4.000000</td>\n",
       "      <td>4.000000</td>\n",
       "    </tr>\n",
       "    <tr>\n",
       "      <th>max</th>\n",
       "      <td>9.000000</td>\n",
       "      <td>5048.000000</td>\n",
       "      <td>4.000000</td>\n",
       "      <td>2010.000000</td>\n",
       "      <td>4.500000</td>\n",
       "      <td>5.000000</td>\n",
       "      <td>5.000000</td>\n",
       "    </tr>\n",
       "  </tbody>\n",
       "</table>\n",
       "</div>"
      ],
      "text/plain": [
       "       overall_qual         area  garage_cars   year_built    bathrooms  \\\n",
       "count   1919.000000  1918.000000  1918.000000  1919.000000  1918.000000   \n",
       "mean       5.992183  2463.422315     1.721585  1970.457009     2.159541   \n",
       "std        1.283342   666.716681     0.724893    29.911951     0.754462   \n",
       "min        2.000000   612.000000     0.000000  1872.000000     1.000000   \n",
       "25%        5.000000  1985.250000     1.000000  1953.000000     1.500000   \n",
       "50%        6.000000  2415.000000     2.000000  1972.000000     2.000000   \n",
       "75%        7.000000  2899.500000     2.000000  1999.000000     2.500000   \n",
       "max        9.000000  5048.000000     4.000000  2010.000000     4.500000   \n",
       "\n",
       "       kitchen_qual_int  exter_qual_int  \n",
       "count       1919.000000     1919.000000  \n",
       "mean           3.458572        3.353830  \n",
       "std            0.610328        0.529007  \n",
       "min            2.000000        2.000000  \n",
       "25%            3.000000        3.000000  \n",
       "50%            3.000000        3.000000  \n",
       "75%            4.000000        4.000000  \n",
       "max            5.000000        5.000000  "
      ]
     },
     "execution_count": 51,
     "metadata": {},
     "output_type": "execute_result"
    }
   ],
   "source": [
    "# Statistic summary of the selected features.\n",
    "X.describe()"
   ]
  },
  {
   "cell_type": "code",
   "execution_count": 52,
   "id": "b3e3b874-158f-4918-96f9-6b28b5471976",
   "metadata": {},
   "outputs": [
    {
     "data": {
      "text/plain": [
       "overall_qual        0\n",
       "area                1\n",
       "garage_cars         1\n",
       "year_built          0\n",
       "bathrooms           1\n",
       "kitchen_qual_int    0\n",
       "exter_qual_int      0\n",
       "dtype: int64"
      ]
     },
     "execution_count": 52,
     "metadata": {},
     "output_type": "execute_result"
    }
   ],
   "source": [
    "# Check for null values\n",
    "X.isnull().sum()"
   ]
  },
  {
   "cell_type": "code",
   "execution_count": 53,
   "id": "17055b94-7aed-4225-a19b-0d5e24e883ba",
   "metadata": {},
   "outputs": [
    {
     "data": {
      "text/plain": [
       "overall_qual        0\n",
       "area                0\n",
       "garage_cars         0\n",
       "year_built          0\n",
       "bathrooms           0\n",
       "kitchen_qual_int    0\n",
       "exter_qual_int      0\n",
       "dtype: int64"
      ]
     },
     "execution_count": 53,
     "metadata": {},
     "output_type": "execute_result"
    }
   ],
   "source": [
    "# Impute the null values with median\n",
    "imp = SimpleImputer(strategy='median') # Instantiate simple imputer\n",
    "imp_X = imp.fit_transform(X)\n",
    "X = pd.DataFrame(imp_X, columns = X.columns)\n",
    "X.isnull().sum() # Dataframe is free of missing values"
   ]
  },
  {
   "cell_type": "code",
   "execution_count": 54,
   "id": "1d626c89-e848-494b-8342-cbd5c38a7b44",
   "metadata": {},
   "outputs": [],
   "source": [
    "# train_test_split\n",
    "X_train, X_test, y_train, y_test = train_test_split(X, y, random_state=42, test_size=0.2)"
   ]
  },
  {
   "cell_type": "code",
   "execution_count": 55,
   "id": "73990fd3-69e5-492b-877f-0cc4f3004dcf",
   "metadata": {},
   "outputs": [],
   "source": [
    "# Standard Scale the features\n",
    "ss = StandardScaler() #Initiate standard scalar\n",
    "ss.fit(X_train)\n",
    "X_train_sc = ss.fit_transform(X_train) #Fit and transform the X_train\n",
    "X_test_sc = ss.transform(X_test)  # Transform the X_test"
   ]
  },
  {
   "cell_type": "code",
   "execution_count": 56,
   "id": "7a87c1d4-65c0-4b77-a768-4b5baa6ad021",
   "metadata": {},
   "outputs": [
    {
     "name": "stdout",
     "output_type": "stream",
     "text": [
      "Train score 0.8420541587075541\n",
      "Test score 0.8302376989027375\n"
     ]
    }
   ],
   "source": [
    "# Fit the trainning set on a linear regression model\n",
    "lr = LinearRegression() # Instantiate LinearRegression\n",
    "lr.fit(X_train_sc, y_train) # Fit the linear regression on trainning data\n",
    "print(f'Train score {lr.score(X_train_sc, y_train)}')\n",
    "print(f'Test score {lr.score(X_test_sc, y_test)}')"
   ]
  },
  {
   "cell_type": "code",
   "execution_count": 57,
   "id": "2b85be33-1a18-4413-a3c1-c453a53b4d1e",
   "metadata": {},
   "outputs": [
    {
     "data": {
      "text/html": [
       "<div>\n",
       "<style scoped>\n",
       "    .dataframe tbody tr th:only-of-type {\n",
       "        vertical-align: middle;\n",
       "    }\n",
       "\n",
       "    .dataframe tbody tr th {\n",
       "        vertical-align: top;\n",
       "    }\n",
       "\n",
       "    .dataframe thead th {\n",
       "        text-align: right;\n",
       "    }\n",
       "</style>\n",
       "<table border=\"1\" class=\"dataframe\">\n",
       "  <thead>\n",
       "    <tr style=\"text-align: right;\">\n",
       "      <th></th>\n",
       "      <th>overall_qual</th>\n",
       "      <th>area</th>\n",
       "      <th>garage_cars</th>\n",
       "      <th>year_built</th>\n",
       "      <th>bathrooms</th>\n",
       "      <th>kitchen_qual_int</th>\n",
       "      <th>exter_qual_int</th>\n",
       "      <th>overall_qual^2</th>\n",
       "      <th>overall_qual area</th>\n",
       "      <th>overall_qual garage_cars</th>\n",
       "      <th>...</th>\n",
       "      <th>year_built^2</th>\n",
       "      <th>year_built bathrooms</th>\n",
       "      <th>year_built kitchen_qual_int</th>\n",
       "      <th>year_built exter_qual_int</th>\n",
       "      <th>bathrooms^2</th>\n",
       "      <th>bathrooms kitchen_qual_int</th>\n",
       "      <th>bathrooms exter_qual_int</th>\n",
       "      <th>kitchen_qual_int^2</th>\n",
       "      <th>kitchen_qual_int exter_qual_int</th>\n",
       "      <th>exter_qual_int^2</th>\n",
       "    </tr>\n",
       "  </thead>\n",
       "  <tbody>\n",
       "    <tr>\n",
       "      <th>0</th>\n",
       "      <td>1.553994</td>\n",
       "      <td>1.081901</td>\n",
       "      <td>1.764811</td>\n",
       "      <td>1.176392</td>\n",
       "      <td>-0.209794</td>\n",
       "      <td>0.872099</td>\n",
       "      <td>1.183482</td>\n",
       "      <td>2.414899</td>\n",
       "      <td>1.681269</td>\n",
       "      <td>2.742506</td>\n",
       "      <td>...</td>\n",
       "      <td>1.383897</td>\n",
       "      <td>-0.246800</td>\n",
       "      <td>1.025930</td>\n",
       "      <td>1.392238</td>\n",
       "      <td>0.044014</td>\n",
       "      <td>-0.182961</td>\n",
       "      <td>-0.248288</td>\n",
       "      <td>0.760556</td>\n",
       "      <td>1.032113</td>\n",
       "      <td>1.400629</td>\n",
       "    </tr>\n",
       "    <tr>\n",
       "      <th>1</th>\n",
       "      <td>-0.782324</td>\n",
       "      <td>-0.646999</td>\n",
       "      <td>0.378432</td>\n",
       "      <td>0.225991</td>\n",
       "      <td>-0.209794</td>\n",
       "      <td>-0.760427</td>\n",
       "      <td>-0.674028</td>\n",
       "      <td>0.612031</td>\n",
       "      <td>0.506163</td>\n",
       "      <td>-0.296056</td>\n",
       "      <td>...</td>\n",
       "      <td>0.051072</td>\n",
       "      <td>-0.047412</td>\n",
       "      <td>-0.171850</td>\n",
       "      <td>-0.152324</td>\n",
       "      <td>0.044014</td>\n",
       "      <td>0.159533</td>\n",
       "      <td>0.141407</td>\n",
       "      <td>0.578250</td>\n",
       "      <td>0.512549</td>\n",
       "      <td>0.454314</td>\n",
       "    </tr>\n",
       "    <tr>\n",
       "      <th>2</th>\n",
       "      <td>-0.782324</td>\n",
       "      <td>-0.729039</td>\n",
       "      <td>0.378432</td>\n",
       "      <td>-0.181324</td>\n",
       "      <td>-0.876531</td>\n",
       "      <td>-0.760427</td>\n",
       "      <td>1.183482</td>\n",
       "      <td>0.612031</td>\n",
       "      <td>0.570345</td>\n",
       "      <td>-0.296056</td>\n",
       "      <td>...</td>\n",
       "      <td>0.032878</td>\n",
       "      <td>0.158936</td>\n",
       "      <td>0.137883</td>\n",
       "      <td>-0.214593</td>\n",
       "      <td>0.768307</td>\n",
       "      <td>0.666538</td>\n",
       "      <td>-1.037359</td>\n",
       "      <td>0.578250</td>\n",
       "      <td>-0.899952</td>\n",
       "      <td>1.400629</td>\n",
       "    </tr>\n",
       "    <tr>\n",
       "      <th>3</th>\n",
       "      <td>0.775222</td>\n",
       "      <td>1.475386</td>\n",
       "      <td>-1.007947</td>\n",
       "      <td>-1.063838</td>\n",
       "      <td>-0.209794</td>\n",
       "      <td>-0.760427</td>\n",
       "      <td>-0.674028</td>\n",
       "      <td>0.600968</td>\n",
       "      <td>1.143751</td>\n",
       "      <td>-0.781382</td>\n",
       "      <td>...</td>\n",
       "      <td>1.131752</td>\n",
       "      <td>0.223187</td>\n",
       "      <td>0.808972</td>\n",
       "      <td>0.717057</td>\n",
       "      <td>0.044014</td>\n",
       "      <td>0.159533</td>\n",
       "      <td>0.141407</td>\n",
       "      <td>0.578250</td>\n",
       "      <td>0.512549</td>\n",
       "      <td>0.454314</td>\n",
       "    </tr>\n",
       "    <tr>\n",
       "      <th>4</th>\n",
       "      <td>-0.782324</td>\n",
       "      <td>-0.324920</td>\n",
       "      <td>0.378432</td>\n",
       "      <td>1.176392</td>\n",
       "      <td>-0.876531</td>\n",
       "      <td>-0.760427</td>\n",
       "      <td>-0.674028</td>\n",
       "      <td>0.612031</td>\n",
       "      <td>0.254192</td>\n",
       "      <td>-0.296056</td>\n",
       "      <td>...</td>\n",
       "      <td>1.383897</td>\n",
       "      <td>-1.031144</td>\n",
       "      <td>-0.894561</td>\n",
       "      <td>-0.792921</td>\n",
       "      <td>0.768307</td>\n",
       "      <td>0.666538</td>\n",
       "      <td>0.590807</td>\n",
       "      <td>0.578250</td>\n",
       "      <td>0.512549</td>\n",
       "      <td>0.454314</td>\n",
       "    </tr>\n",
       "  </tbody>\n",
       "</table>\n",
       "<p>5 rows × 35 columns</p>\n",
       "</div>"
      ],
      "text/plain": [
       "   overall_qual      area  garage_cars  year_built  bathrooms  \\\n",
       "0      1.553994  1.081901     1.764811    1.176392  -0.209794   \n",
       "1     -0.782324 -0.646999     0.378432    0.225991  -0.209794   \n",
       "2     -0.782324 -0.729039     0.378432   -0.181324  -0.876531   \n",
       "3      0.775222  1.475386    -1.007947   -1.063838  -0.209794   \n",
       "4     -0.782324 -0.324920     0.378432    1.176392  -0.876531   \n",
       "\n",
       "   kitchen_qual_int  exter_qual_int  overall_qual^2  overall_qual area  \\\n",
       "0          0.872099        1.183482        2.414899           1.681269   \n",
       "1         -0.760427       -0.674028        0.612031           0.506163   \n",
       "2         -0.760427        1.183482        0.612031           0.570345   \n",
       "3         -0.760427       -0.674028        0.600968           1.143751   \n",
       "4         -0.760427       -0.674028        0.612031           0.254192   \n",
       "\n",
       "   overall_qual garage_cars  ...  year_built^2  year_built bathrooms  \\\n",
       "0                  2.742506  ...      1.383897             -0.246800   \n",
       "1                 -0.296056  ...      0.051072             -0.047412   \n",
       "2                 -0.296056  ...      0.032878              0.158936   \n",
       "3                 -0.781382  ...      1.131752              0.223187   \n",
       "4                 -0.296056  ...      1.383897             -1.031144   \n",
       "\n",
       "   year_built kitchen_qual_int  year_built exter_qual_int  bathrooms^2  \\\n",
       "0                     1.025930                   1.392238     0.044014   \n",
       "1                    -0.171850                  -0.152324     0.044014   \n",
       "2                     0.137883                  -0.214593     0.768307   \n",
       "3                     0.808972                   0.717057     0.044014   \n",
       "4                    -0.894561                  -0.792921     0.768307   \n",
       "\n",
       "   bathrooms kitchen_qual_int  bathrooms exter_qual_int  kitchen_qual_int^2  \\\n",
       "0                   -0.182961                 -0.248288            0.760556   \n",
       "1                    0.159533                  0.141407            0.578250   \n",
       "2                    0.666538                 -1.037359            0.578250   \n",
       "3                    0.159533                  0.141407            0.578250   \n",
       "4                    0.666538                  0.590807            0.578250   \n",
       "\n",
       "   kitchen_qual_int exter_qual_int  exter_qual_int^2  \n",
       "0                         1.032113          1.400629  \n",
       "1                         0.512549          0.454314  \n",
       "2                        -0.899952          1.400629  \n",
       "3                         0.512549          0.454314  \n",
       "4                         0.512549          0.454314  \n",
       "\n",
       "[5 rows x 35 columns]"
      ]
     },
     "execution_count": 57,
     "metadata": {},
     "output_type": "execute_result"
    }
   ],
   "source": [
    "# Polynomial features and R2\n",
    "poly = PolynomialFeatures(include_bias=False) #Instantiate polynomial features\n",
    "poly.fit(X_train_sc) # Fit the polynomial Transformation\n",
    "#Transform the data\n",
    "X_train_poly = poly.transform(X_train_sc)\n",
    "X_test_poly = poly.transform(X_test_sc)\n",
    "# View X_train_poly in a dataframe\n",
    "pd.DataFrame(X_train_poly, columns=poly.get_feature_names(X.columns)).head(5)"
   ]
  },
  {
   "cell_type": "code",
   "execution_count": 58,
   "id": "9bac274a-9652-4322-93ed-44d4ec921d3f",
   "metadata": {},
   "outputs": [
    {
     "name": "stdout",
     "output_type": "stream",
     "text": [
      "Polynomial train score: 0.8690429790938434\n",
      "Polynomial test score: 0.8353717375339214\n"
     ]
    }
   ],
   "source": [
    "# Model the data using polynomial features\n",
    "lr_poly = LinearRegression()\n",
    "lr_poly.fit(X_train_poly, y_train)\n",
    "# Cross_validate using 10 folds and obtain R2 score\n",
    "print(f\"Polynomial train score: {cross_val_score(lr_poly, X_train_poly, y_train, cv=10).mean()}\")\n",
    "print(f\"Polynomial test score: {cross_val_score(lr_poly, X_test_poly, y_test, cv=10).mean()}\")"
   ]
  },
  {
   "cell_type": "markdown",
   "id": "09005ea1-12cc-4485-9c2a-2024dfbd68d1",
   "metadata": {},
   "source": [
    "## Regularization ##"
   ]
  },
  {
   "cell_type": "code",
   "execution_count": 59,
   "id": "cea63e23-833b-47ee-8474-46e5e6cace69",
   "metadata": {},
   "outputs": [
    {
     "data": {
      "text/plain": [
       "9.111627561154892"
      ]
     },
     "execution_count": 59,
     "metadata": {},
     "output_type": "execute_result"
    }
   ],
   "source": [
    "# Find the optimal alpha\n",
    "r_alphas = np.logspace(0, 5, 100)\n",
    "# Cross-validate over our list of ridge alphas.\n",
    "ridge_cv = RidgeCV(alphas = r_alphas, scoring='r2', cv=5)\n",
    "\n",
    "# Fit linear regression model using best ridge alpha!\n",
    "ridge_cv.fit(X_train_sc, y_train);\n",
    "ridge_cv.alpha_"
   ]
  },
  {
   "cell_type": "code",
   "execution_count": 60,
   "id": "7aedf5cf-d845-4e93-a6a4-fe704e1c715d",
   "metadata": {},
   "outputs": [
    {
     "name": "stdout",
     "output_type": "stream",
     "text": [
      "Ridge Train score: 0.8420479578060757\n",
      "Ridge Test score: 0.8301949897134427\n"
     ]
    }
   ],
   "source": [
    "# Regularization with Ridge, on the linear reagression model and polynomial model\n",
    "# Instantiate\n",
    "ridge_model = Ridge(alpha=9)\n",
    "#Fit on the linear model\n",
    "ridge_model.fit(X_train_sc, y_train)\n",
    "# Evaluate model using R2.\n",
    "print(f\"Ridge Train score: {ridge_model.score(X_train_sc, y_train)}\")\n",
    "print(f\"Ridge Test score: {ridge_model.score(X_test_sc, y_test)}\")"
   ]
  },
  {
   "cell_type": "code",
   "execution_count": 61,
   "id": "81f3e8fb-c819-4abe-b4b0-ca5b9af4a593",
   "metadata": {},
   "outputs": [
    {
     "data": {
      "text/plain": [
       "41.32012400115337"
      ]
     },
     "execution_count": 61,
     "metadata": {},
     "output_type": "execute_result"
    }
   ],
   "source": [
    "# Fit linear regression with polynomial features model using best ridge alpha!\n",
    "# Find the optimal alpha\n",
    "r_alphas_poly = np.logspace(0, 5, 100)\n",
    "# Cross-validate over our list of ridge alphas.\n",
    "ridge_cv_poly = RidgeCV(alphas = r_alphas_poly, scoring='r2', cv=5)\n",
    "\n",
    "ridge_cv_poly.fit(X_train_poly, y_train);\n",
    "ridge_cv_poly.alpha_"
   ]
  },
  {
   "cell_type": "code",
   "execution_count": 62,
   "id": "5d429ee6-7677-4766-bf34-e252884de59e",
   "metadata": {},
   "outputs": [
    {
     "name": "stdout",
     "output_type": "stream",
     "text": [
      "Ridge Poly Train score: 0.8769481699034806\n",
      "Ridge Poly Test score: 0.8567373796275002\n"
     ]
    }
   ],
   "source": [
    "# Ridge model fit on the polynomial model\n",
    "# Instantiate\n",
    "ridge_model_poly = Ridge(alpha=41)\n",
    "#Fit on the linear model\n",
    "ridge_model_poly.fit(X_train_poly, y_train)\n",
    "# Evaluate model using R2.\n",
    "print(f\"Ridge Poly Train score: {ridge_model_poly.score(X_train_poly, y_train)}\")\n",
    "print(f\"Ridge Poly Test score: {ridge_model_poly.score(X_test_poly, y_test)}\")"
   ]
  },
  {
   "cell_type": "code",
   "execution_count": 63,
   "id": "fe7cc70d-b906-44d5-92fb-e5c790424efc",
   "metadata": {},
   "outputs": [
    {
     "name": "stdout",
     "output_type": "stream",
     "text": [
      "Lasso Train score: 0.8420530927235461\n",
      "Lasso Test score: 0.8302743828419792\n"
     ]
    }
   ],
   "source": [
    "# Instanitiate LASSO regularization\n",
    "lasso_cv = LassoCV()\n",
    "# Fit lasso regularization on linear regression model\n",
    "lasso_cv.fit(X_train_sc, y_train)\n",
    "# Evaluate the model after lasso regularization\n",
    "print(f\"Lasso Train score: {lasso_cv.score(X_train_sc, y_train)}\")\n",
    "print(f\"Lasso Test score: {lasso_cv.score(X_test_sc, y_test)}\")"
   ]
  },
  {
   "cell_type": "code",
   "execution_count": 64,
   "id": "1ed4b472-c15f-4bfd-b746-6378f01a2c6a",
   "metadata": {},
   "outputs": [
    {
     "name": "stdout",
     "output_type": "stream",
     "text": [
      "Lasso Poly Train score: 0.8765086398435354\n",
      "Lasso Poly Test score: 0.8564088137904288\n"
     ]
    }
   ],
   "source": [
    "# Instanitiate LASSO regularization\n",
    "lasso_cv_poly = LassoCV()\n",
    "# Fit lasso regularization on linear regression model with polynomial features\n",
    "lasso_cv_poly.fit(X_train_poly, y_train)\n",
    "# Evaluate the model after lasso regularization\n",
    "print(f\"Lasso Poly Train score: {lasso_cv_poly.score(X_train_poly, y_train)}\")\n",
    "print(f\"Lasso Poly Test score: {lasso_cv_poly.score(X_test_poly, y_test)}\")"
   ]
  },
  {
   "cell_type": "markdown",
   "id": "7557bf0d-065f-4c52-9d37-fcc1067ad307",
   "metadata": {},
   "source": [
    "# Evaluation: Which model to be selected for prediction? #"
   ]
  },
  {
   "cell_type": "code",
   "execution_count": 65,
   "id": "a4dcec42-4dc2-4e19-896e-eb17bb331ed9",
   "metadata": {},
   "outputs": [
    {
     "name": "stdout",
     "output_type": "stream",
     "text": [
      "Train score 0.8420541587075541\n",
      "Test score 0.8302376989027375\n",
      "Difference: 0.011816459804816604\n",
      "\n",
      "Polynomial train score: 0.8690429790938434\n",
      "Polynomial test score: 0.8353717375339214\n",
      "Difference: 0.03367124155992207\n",
      "\n",
      "Ridge Train score: 0.8420479578060757\n",
      "Ridge Test score: 0.8301949897134427\n",
      "Difference: 0.01185296809263292\n",
      "\n",
      "Ridge Poly Train score: 0.8769481699034806\n",
      "Ridge Poly Test score: 0.8567373796275002\n",
      "Difference:: 0.020210790275980384\n",
      "\n",
      "Lasso Train score: 0.8420530927235461\n",
      "Lasso Test score: 0.8302743828419792\n",
      "0.011778709881566929\n",
      "\n",
      "Lasso Poly Train score: 0.8765086398435354\n",
      "Lasso Poly Test score: 0.8564088137904288\n",
      "0.020099826053106673\n",
      "\n"
     ]
    }
   ],
   "source": [
    "print(f'Train score {lr.score(X_train_sc, y_train)}')\n",
    "print(f'Test score {lr.score(X_test_sc, y_test)}')\n",
    "diff = lr.score(X_train_sc, y_train) - lr.score(X_test_sc, y_test)\n",
    "print('Difference:', diff) \n",
    "print()\n",
    "print(f\"Polynomial train score: {cross_val_score(lr_poly, X_train_poly, y_train, cv=10).mean()}\")\n",
    "print(f\"Polynomial test score: {cross_val_score(lr_poly, X_test_poly, y_test, cv=10).mean()}\")\n",
    "diff_poly = cross_val_score(lr_poly, X_train_poly, y_train, cv=10).mean() - cross_val_score(lr_poly, X_test_poly, y_test, cv=10).mean()\n",
    "print('Difference:', diff_poly)\n",
    "print()\n",
    "print(f\"Ridge Train score: {ridge_model.score(X_train_sc, y_train)}\")\n",
    "print(f\"Ridge Test score: {ridge_model.score(X_test_sc, y_test)}\")\n",
    "diff_ridge = ridge_model.score(X_train_sc, y_train) - ridge_model.score(X_test_sc, y_test)\n",
    "print('Difference:', diff_ridge)\n",
    "print()\n",
    "print(f\"Ridge Poly Train score: {ridge_model_poly.score(X_train_poly, y_train)}\")\n",
    "print(f\"Ridge Poly Test score: {ridge_model_poly.score(X_test_poly, y_test)}\")\n",
    "diff_ridgepoly = ridge_model_poly.score(X_train_poly, y_train) - ridge_model_poly.score(X_test_poly, y_test)\n",
    "print('Difference::', diff_ridgepoly)\n",
    "print()\n",
    "print(f\"Lasso Train score: {lasso_cv.score(X_train_sc, y_train)}\")\n",
    "print(f\"Lasso Test score: {lasso_cv.score(X_test_sc, y_test)}\")\n",
    "diff_lasso = lasso_cv.score(X_train_sc, y_train) - lasso_cv.score(X_test_sc, y_test)\n",
    "print(diff_lasso)\n",
    "print()\n",
    "print(f\"Lasso Poly Train score: {lasso_cv_poly.score(X_train_poly, y_train)}\")\n",
    "print(f\"Lasso Poly Test score: {lasso_cv_poly.score(X_test_poly, y_test)}\")\n",
    "diff_lassopoly = lasso_cv_poly.score(X_train_poly, y_train) - lasso_cv_poly.score(X_test_poly, y_test)\n",
    "print(diff_lassopoly)\n",
    "print()"
   ]
  },
  {
   "cell_type": "markdown",
   "id": "096ca865-ccd1-4167-9431-53c5810dde11",
   "metadata": {},
   "source": [
    "- Linear Regression model after Lasso regularization has high R2 scores for both the train and the test. It also has the smallest differnce between train score and test score among all the models created. It should perform the best at generalizing the test dataset. \n",
    "- Thus, linear regression model after Lasso regularization will be selected for the prediction of house prices."
   ]
  },
  {
   "cell_type": "markdown",
   "id": "3a2b0781-b185-4c9a-b10b-d9ae8566740d",
   "metadata": {},
   "source": [
    "# Prediction #"
   ]
  },
  {
   "cell_type": "code",
   "execution_count": 66,
   "id": "2f9507e1-e67c-423e-a32c-82dd4ed8efa1",
   "metadata": {},
   "outputs": [],
   "source": [
    "# Load test dataset\n",
    "test = pd.read_csv('Original data/test.csv')\n",
    "# Convert test data columns to be the same as the data that we trained on.\n",
    "test.columns = [column.replace(' ', '_').lower() for column in test.columns]"
   ]
  },
  {
   "cell_type": "code",
   "execution_count": 67,
   "id": "6f1c07af-72d5-49b5-8483-5179fe1b7648",
   "metadata": {},
   "outputs": [
    {
     "data": {
      "text/plain": [
       "Index(['overall_qual', 'area', 'garage_cars', 'year_built', 'bathrooms',\n",
       "       'kitchen_qual_int', 'exter_qual_int'],\n",
       "      dtype='object')"
      ]
     },
     "execution_count": 67,
     "metadata": {},
     "output_type": "execute_result"
    }
   ],
   "source": [
    "# Recall the features used for prediction\n",
    "X.columns"
   ]
  },
  {
   "cell_type": "code",
   "execution_count": 68,
   "id": "ca898293-7ad1-4676-9ecb-f3115f482554",
   "metadata": {},
   "outputs": [],
   "source": [
    "# Edit the columns in test dataset to match the train data set\n",
    "test['bathrooms'] = (test['bsmt_full_bath']+ (0.5*test['bsmt_half_bath'])+ test['full_bath'] + (0.5*test['half_bath']))\n",
    "test['kitchen_qual_int'] = test['kitchen_qual'].map({'Po': 1, 'Fa': 2, 'TA':3, 'Gd':4, 'Ex':5})\n",
    "test['exter_qual_int'] = test['exter_qual'].map({'Po': 1, 'Fa': 2, 'TA':3, 'Gd':4, 'Ex':5})"
   ]
  },
  {
   "cell_type": "code",
   "execution_count": 69,
   "id": "f25df301-ac13-4ee3-b832-bc3daec0dcfa",
   "metadata": {},
   "outputs": [],
   "source": [
    "# Readdress the features that's used in model\n",
    "features = ['overall_qual', 'gr_liv_area', 'garage_cars', 'year_built', 'bathrooms',\n",
    "       'kitchen_qual_int', 'exter_qual_int']"
   ]
  },
  {
   "cell_type": "code",
   "execution_count": 70,
   "id": "69116db9-cc87-4f3d-8c6e-c156853b2dcc",
   "metadata": {},
   "outputs": [],
   "source": [
    "# Set the X variables for test dataset\n",
    "test_X = test[features]\n",
    "# Transform the test columns to standard scalar\n",
    "test_X_sc = ss.transform(test_X)"
   ]
  },
  {
   "cell_type": "code",
   "execution_count": 71,
   "id": "c20aff5a-40b9-45e3-9e56-b8f7c3fea1bd",
   "metadata": {},
   "outputs": [],
   "source": [
    "# Fit test data to lasso linear regression model\n",
    "predictions = lasso_cv.predict(test_X_sc)"
   ]
  },
  {
   "cell_type": "code",
   "execution_count": 72,
   "id": "16b1c6a1-fbef-4c55-bf59-5f05a8c595cb",
   "metadata": {},
   "outputs": [
    {
     "data": {
      "text/html": [
       "<div>\n",
       "<style scoped>\n",
       "    .dataframe tbody tr th:only-of-type {\n",
       "        vertical-align: middle;\n",
       "    }\n",
       "\n",
       "    .dataframe tbody tr th {\n",
       "        vertical-align: top;\n",
       "    }\n",
       "\n",
       "    .dataframe thead th {\n",
       "        text-align: right;\n",
       "    }\n",
       "</style>\n",
       "<table border=\"1\" class=\"dataframe\">\n",
       "  <thead>\n",
       "    <tr style=\"text-align: right;\">\n",
       "      <th></th>\n",
       "      <th>id</th>\n",
       "      <th>pid</th>\n",
       "      <th>ms_subclass</th>\n",
       "      <th>ms_zoning</th>\n",
       "      <th>lot_frontage</th>\n",
       "      <th>lot_area</th>\n",
       "      <th>street</th>\n",
       "      <th>alley</th>\n",
       "      <th>lot_shape</th>\n",
       "      <th>land_contour</th>\n",
       "      <th>...</th>\n",
       "      <th>fence</th>\n",
       "      <th>misc_feature</th>\n",
       "      <th>misc_val</th>\n",
       "      <th>mo_sold</th>\n",
       "      <th>yr_sold</th>\n",
       "      <th>sale_type</th>\n",
       "      <th>bathrooms</th>\n",
       "      <th>kitchen_qual_int</th>\n",
       "      <th>exter_qual_int</th>\n",
       "      <th>saleprice</th>\n",
       "    </tr>\n",
       "  </thead>\n",
       "  <tbody>\n",
       "    <tr>\n",
       "      <th>0</th>\n",
       "      <td>2658</td>\n",
       "      <td>902301120</td>\n",
       "      <td>190</td>\n",
       "      <td>RM</td>\n",
       "      <td>69.0</td>\n",
       "      <td>9142</td>\n",
       "      <td>Pave</td>\n",
       "      <td>Grvl</td>\n",
       "      <td>Reg</td>\n",
       "      <td>Lvl</td>\n",
       "      <td>...</td>\n",
       "      <td>NaN</td>\n",
       "      <td>NaN</td>\n",
       "      <td>0</td>\n",
       "      <td>4</td>\n",
       "      <td>2006</td>\n",
       "      <td>WD</td>\n",
       "      <td>2.0</td>\n",
       "      <td>2</td>\n",
       "      <td>3</td>\n",
       "      <td>113329.874168</td>\n",
       "    </tr>\n",
       "    <tr>\n",
       "      <th>1</th>\n",
       "      <td>2718</td>\n",
       "      <td>905108090</td>\n",
       "      <td>90</td>\n",
       "      <td>RL</td>\n",
       "      <td>NaN</td>\n",
       "      <td>9662</td>\n",
       "      <td>Pave</td>\n",
       "      <td>NaN</td>\n",
       "      <td>IR1</td>\n",
       "      <td>Lvl</td>\n",
       "      <td>...</td>\n",
       "      <td>NaN</td>\n",
       "      <td>NaN</td>\n",
       "      <td>0</td>\n",
       "      <td>8</td>\n",
       "      <td>2006</td>\n",
       "      <td>WD</td>\n",
       "      <td>2.0</td>\n",
       "      <td>3</td>\n",
       "      <td>3</td>\n",
       "      <td>134313.567210</td>\n",
       "    </tr>\n",
       "    <tr>\n",
       "      <th>2</th>\n",
       "      <td>2414</td>\n",
       "      <td>528218130</td>\n",
       "      <td>60</td>\n",
       "      <td>RL</td>\n",
       "      <td>58.0</td>\n",
       "      <td>17104</td>\n",
       "      <td>Pave</td>\n",
       "      <td>NaN</td>\n",
       "      <td>IR1</td>\n",
       "      <td>Lvl</td>\n",
       "      <td>...</td>\n",
       "      <td>NaN</td>\n",
       "      <td>NaN</td>\n",
       "      <td>0</td>\n",
       "      <td>9</td>\n",
       "      <td>2006</td>\n",
       "      <td>New</td>\n",
       "      <td>3.5</td>\n",
       "      <td>4</td>\n",
       "      <td>4</td>\n",
       "      <td>181178.775098</td>\n",
       "    </tr>\n",
       "    <tr>\n",
       "      <th>3</th>\n",
       "      <td>1989</td>\n",
       "      <td>902207150</td>\n",
       "      <td>30</td>\n",
       "      <td>RM</td>\n",
       "      <td>60.0</td>\n",
       "      <td>8520</td>\n",
       "      <td>Pave</td>\n",
       "      <td>NaN</td>\n",
       "      <td>Reg</td>\n",
       "      <td>Lvl</td>\n",
       "      <td>...</td>\n",
       "      <td>NaN</td>\n",
       "      <td>NaN</td>\n",
       "      <td>0</td>\n",
       "      <td>7</td>\n",
       "      <td>2007</td>\n",
       "      <td>WD</td>\n",
       "      <td>1.0</td>\n",
       "      <td>3</td>\n",
       "      <td>4</td>\n",
       "      <td>93281.783237</td>\n",
       "    </tr>\n",
       "    <tr>\n",
       "      <th>4</th>\n",
       "      <td>625</td>\n",
       "      <td>535105100</td>\n",
       "      <td>20</td>\n",
       "      <td>RL</td>\n",
       "      <td>NaN</td>\n",
       "      <td>9500</td>\n",
       "      <td>Pave</td>\n",
       "      <td>NaN</td>\n",
       "      <td>IR1</td>\n",
       "      <td>Lvl</td>\n",
       "      <td>...</td>\n",
       "      <td>NaN</td>\n",
       "      <td>NaN</td>\n",
       "      <td>0</td>\n",
       "      <td>7</td>\n",
       "      <td>2009</td>\n",
       "      <td>WD</td>\n",
       "      <td>2.5</td>\n",
       "      <td>3</td>\n",
       "      <td>3</td>\n",
       "      <td>128933.458078</td>\n",
       "    </tr>\n",
       "  </tbody>\n",
       "</table>\n",
       "<p>5 rows × 84 columns</p>\n",
       "</div>"
      ],
      "text/plain": [
       "     id        pid  ms_subclass ms_zoning  lot_frontage  lot_area street  \\\n",
       "0  2658  902301120          190        RM          69.0      9142   Pave   \n",
       "1  2718  905108090           90        RL           NaN      9662   Pave   \n",
       "2  2414  528218130           60        RL          58.0     17104   Pave   \n",
       "3  1989  902207150           30        RM          60.0      8520   Pave   \n",
       "4   625  535105100           20        RL           NaN      9500   Pave   \n",
       "\n",
       "  alley lot_shape land_contour  ... fence misc_feature misc_val mo_sold  \\\n",
       "0  Grvl       Reg          Lvl  ...   NaN          NaN        0       4   \n",
       "1   NaN       IR1          Lvl  ...   NaN          NaN        0       8   \n",
       "2   NaN       IR1          Lvl  ...   NaN          NaN        0       9   \n",
       "3   NaN       Reg          Lvl  ...   NaN          NaN        0       7   \n",
       "4   NaN       IR1          Lvl  ...   NaN          NaN        0       7   \n",
       "\n",
       "  yr_sold sale_type bathrooms kitchen_qual_int  exter_qual_int      saleprice  \n",
       "0    2006       WD        2.0                2               3  113329.874168  \n",
       "1    2006       WD        2.0                3               3  134313.567210  \n",
       "2    2006       New       3.5                4               4  181178.775098  \n",
       "3    2007       WD        1.0                3               4   93281.783237  \n",
       "4    2009       WD        2.5                3               3  128933.458078  \n",
       "\n",
       "[5 rows x 84 columns]"
      ]
     },
     "execution_count": 72,
     "metadata": {},
     "output_type": "execute_result"
    }
   ],
   "source": [
    "# Assigning to dataframe\n",
    "test['saleprice'] = predictions\n",
    "test.head()"
   ]
  },
  {
   "cell_type": "code",
   "execution_count": 73,
   "id": "2fed8a60-5bab-4c7d-a187-120d833aec42",
   "metadata": {},
   "outputs": [],
   "source": [
    "#Save Predictions for Kaggle Submission\n",
    "test[['id','saleprice']].to_csv('Modified data/kaggle_sub_3.csv', index=False)"
   ]
  },
  {
   "cell_type": "markdown",
   "id": "cedbf20f-fc03-4746-af3f-4b663104de9d",
   "metadata": {},
   "source": [
    "## Evaluation ##\n",
    "- The linear regression model with lasso regularization will be used to predict sale prices. \n",
    "- The difference between the training score and testing score is the smallest among all the models. There is a balance between bias/variance. The model is not over nor under fit. \n",
    "- The model test R2 score is 0.83, meaning that 83% of the variability in the target sale price can be explained by the linear regression model with lasso regularization.\n",
    "- The difference between the trainning R2 score and testing R2 score is 0.01. There is a balance between bias-variance tradeoff. The model is not over nor under fit. "
   ]
  },
  {
   "cell_type": "code",
   "execution_count": 74,
   "id": "85607c80-8002-4985-aeb7-cb4f862d0150",
   "metadata": {},
   "outputs": [
    {
     "data": {
      "text/plain": [
       "array([15070.09479427, 22414.68887529,  7030.25805526,  4390.99087869,\n",
       "        6723.65512739,  7141.88771696,  5384.46953532])"
      ]
     },
     "execution_count": 74,
     "metadata": {},
     "output_type": "execute_result"
    }
   ],
   "source": [
    "# Lasso Model coefficient\n",
    "lasso_cv.coef_"
   ]
  },
  {
   "cell_type": "code",
   "execution_count": 75,
   "id": "a492207f-eee0-468a-831d-e2832e8717c4",
   "metadata": {},
   "outputs": [
    {
     "data": {
      "text/plain": [
       "169990.35244299675"
      ]
     },
     "execution_count": 75,
     "metadata": {},
     "output_type": "execute_result"
    }
   ],
   "source": [
    "# Lasso Model intercept\n",
    "lasso_cv.intercept_"
   ]
  },
  {
   "cell_type": "code",
   "execution_count": 76,
   "id": "afc279e8-9f2f-4d3d-9a2c-2913fd8efcaf",
   "metadata": {},
   "outputs": [
    {
     "data": {
      "text/plain": [
       "{('area', 22432.06149704184),\n",
       " ('bathrooms', 6735.716802158775),\n",
       " ('exter_qual_int', 5395.322215391367),\n",
       " ('garage_cars', 7047.092464136122),\n",
       " ('kitchen_qual_int', 7154.932050900522),\n",
       " ('overall_qual', 15068.629876198636),\n",
       " ('year_built', 4402.030179655748)}"
      ]
     },
     "execution_count": 76,
     "metadata": {},
     "output_type": "execute_result"
    }
   ],
   "source": [
    "# Zip coefficients and column names together\n",
    "set(zip(X_train.columns, lr.coef_))"
   ]
  },
  {
   "cell_type": "markdown",
   "id": "db8f4d6f-c5df-4c9e-8f47-0eb797a7306b",
   "metadata": {},
   "source": [
    "### Interpretations ###\n",
    "- Holding all else constant, for every year built of the house, we expect a \\\\$4402 increase in the sale price.\n",
    "- Holding all else constant, for every level increase in the external quality of the house, we expect about \\\\$5395 more increase in sale price. \n",
    "- Holding all else constant, we expect about \\\\$6735 more increase in the sale price for every additional bathrooms in the house.\n",
    "-  Holding all else constant, we expect about \\\\$7047 more increase in the sale price for every car parking space in the garage. \n",
    "- Holding all else constant, we expect about \\\\$7154 increase in the sale price for every quality level increase in the kitchen quality.\n",
    "- Holding all else constant, for every quality level of increase in the house's overall quality, we expect a \\\\$15068 increase in the sale price.\n",
    "- Holding all else constant, for every one square feet increase in the house area, we expect about \\\\$22432 more increase in sale price. "
   ]
  },
  {
   "cell_type": "code",
   "execution_count": null,
   "id": "53162702-68d4-42ea-91e9-48eb91dd33b6",
   "metadata": {},
   "outputs": [],
   "source": []
  }
 ],
 "metadata": {
  "kernelspec": {
   "display_name": "Python 3",
   "language": "python",
   "name": "python3"
  },
  "language_info": {
   "codemirror_mode": {
    "name": "ipython",
    "version": 3
   },
   "file_extension": ".py",
   "mimetype": "text/x-python",
   "name": "python",
   "nbconvert_exporter": "python",
   "pygments_lexer": "ipython3",
   "version": "3.9.4"
  }
 },
 "nbformat": 4,
 "nbformat_minor": 5
}
